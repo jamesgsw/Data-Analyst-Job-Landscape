{
 "cells": [
  {
   "cell_type": "markdown",
   "metadata": {},
   "source": [
    "# Data Analysis for Data Analyst Job Landscape 2020"
   ]
  },
  {
   "cell_type": "markdown",
   "metadata": {},
   "source": [
    "## Goal\n",
    "There were 2 main motivations for me to do this project,\n",
    "* (1) Understand the current job market for data centric jobs\n",
    "* (2) Find out the what employers are looking for in data centric jobs"
   ]
  },
  {
   "cell_type": "markdown",
   "metadata": {},
   "source": [
    "## Background\n",
    "The project data analysis occurs in the 3rd section: Exploratory Analysis where I explore various themes that I wanted to understand to fufil my 2 goals that I listed above. I used data visualization to explore the various themes, for ease of understanding and giving me an easy snapshot of the job landscape at this current moment.\n",
    "<br> The data was pulled from Glassdoor on 22nd May 2020."
   ]
  },
  {
   "cell_type": "markdown",
   "metadata": {},
   "source": [
    "## Methodology\n",
    "* [1. Packages](#point_1)\n",
    "* [2. Reading Datasets](#point_2)\n",
    "* [3. Exploratory Analysis](#point_3)\n",
    "    * [3.1 One Important Caveat](#point_3_1)\n",
    "    * [3.2 Average Base Pay Comparison Across Job Titles](#point_3_2)\n",
    "    * [3.3 Number of Jobs listed on Glassdoor](#point_3_3)\n",
    "    * [3.4 Technical Skills](#point_3_4)\n",
    "    * [3.5 Academic Skills](#point_3_5)\n",
    "    * [3.6 Education Level](#point_3_6)\n",
    "    * [3.7 Job demand by Ownership](#point_3_7)\n",
    "    * [3.8 Job demand by Industry](#point_3_8)\n",
    "    * [3.9 Rating Distribution](#point_3_9)\n",
    "* [4. Word Cloud](#point_4)"
   ]
  },
  {
   "cell_type": "markdown",
   "metadata": {},
   "source": [
    "## Click button to show/hide code"
   ]
  },
  {
   "cell_type": "code",
   "execution_count": 1,
   "metadata": {},
   "outputs": [
    {
     "data": {
      "text/html": [
       "<script>\n",
       "code_show=true; \n",
       "function code_toggle() {\n",
       " if (code_show){\n",
       " $('div.input').hide();\n",
       " } else {\n",
       " $('div.input').show();\n",
       " }\n",
       " code_show = !code_show\n",
       "} \n",
       "$( document ).ready(code_toggle);\n",
       "</script>\n",
       "<form action=\"javascript:code_toggle()\"><input type=\"submit\" value=\"Click here to toggle on/off the raw code.\"></form>"
      ],
      "text/plain": [
       "<IPython.core.display.HTML object>"
      ]
     },
     "execution_count": 1,
     "metadata": {},
     "output_type": "execute_result"
    }
   ],
   "source": [
    "from IPython.display import HTML\n",
    "\n",
    "HTML('''<script>\n",
    "code_show=true; \n",
    "function code_toggle() {\n",
    " if (code_show){\n",
    " $('div.input').hide();\n",
    " } else {\n",
    " $('div.input').show();\n",
    " }\n",
    " code_show = !code_show\n",
    "} \n",
    "$( document ).ready(code_toggle);\n",
    "</script>\n",
    "<form action=\"javascript:code_toggle()\"><input type=\"submit\" value=\"Click here to toggle on/off the raw code.\"></form>''')"
   ]
  },
  {
   "cell_type": "markdown",
   "metadata": {
    "hide_input": true
   },
   "source": [
    "<a id = \"point_1\"> </a>\n",
    "## 1. Packages\n",
    "There are various data analysis packages within Python that I'll be using for my anaysis"
   ]
  },
  {
   "cell_type": "code",
   "execution_count": 4,
   "metadata": {
    "hide_input": false
   },
   "outputs": [],
   "source": [
    "\"\"\"Data Science Packages\"\"\"\n",
    "import pandas as pd\n",
    "import numpy as np\n",
    "from scipy.stats import norm\n",
    "from pandas import DataFrame\n",
    "\n",
    "\"\"\"Data Visualisation Packages\"\"\"\n",
    "import matplotlib.pyplot as plt\n",
    "import seaborn as sns\n",
    "import plotly.express as px\n",
    "import plotly.graph_objects as go\n",
    "from matplotlib import pyplot\n",
    "from matplotlib.pyplot import figure\n",
    "import squarify\n",
    "\n",
    "\"\"\"World Cloud\"\"\"\n",
    "import nltk\n",
    "from wordcloud import WordCloud, ImageColorGenerator, STOPWORDS\n",
    "from nltk.corpus import stopwords\n",
    "from nltk.tokenize import word_tokenize"
   ]
  },
  {
   "cell_type": "markdown",
   "metadata": {},
   "source": [
    "<a id = \"point_2\"></a>\n",
    "## 2. Reading Datasets\n",
    "After performing the Data Cleaning in Part 2, I'm using my clean dataset in this data analysis portion."
   ]
  },
  {
   "cell_type": "code",
   "execution_count": 5,
   "metadata": {},
   "outputs": [
    {
     "name": "stdout",
     "output_type": "stream",
     "text": [
      "---------------------- Job Dataset --------------------------\n"
     ]
    }
   ],
   "source": [
    "print(\"---------------------- Job Dataset --------------------------\")"
   ]
  },
  {
   "cell_type": "code",
   "execution_count": 9,
   "metadata": {
    "code_folding": [
     0
    ],
    "scrolled": true
   },
   "outputs": [
    {
     "data": {
      "text/html": [
       "<div>\n",
       "<style scoped>\n",
       "    .dataframe tbody tr th:only-of-type {\n",
       "        vertical-align: middle;\n",
       "    }\n",
       "\n",
       "    .dataframe tbody tr th {\n",
       "        vertical-align: top;\n",
       "    }\n",
       "\n",
       "    .dataframe thead th {\n",
       "        text-align: right;\n",
       "    }\n",
       "</style>\n",
       "<table border=\"1\" class=\"dataframe\">\n",
       "  <thead>\n",
       "    <tr style=\"text-align: right;\">\n",
       "      <th></th>\n",
       "      <th>Unnamed: 0</th>\n",
       "      <th>Job Title</th>\n",
       "      <th>Job Description</th>\n",
       "      <th>Rating</th>\n",
       "      <th>Company Name</th>\n",
       "      <th>Headquarters</th>\n",
       "      <th>Size</th>\n",
       "      <th>Founded</th>\n",
       "      <th>Type of ownership</th>\n",
       "      <th>Industry</th>\n",
       "      <th>...</th>\n",
       "      <th>SQL</th>\n",
       "      <th>Calculus</th>\n",
       "      <th>Database Management</th>\n",
       "      <th>Machine Learning</th>\n",
       "      <th>Statistics</th>\n",
       "      <th>DevOps</th>\n",
       "      <th>Bachelors Degreee</th>\n",
       "      <th>Masters</th>\n",
       "      <th>PhD</th>\n",
       "      <th>No Education Specified</th>\n",
       "    </tr>\n",
       "  </thead>\n",
       "  <tbody>\n",
       "    <tr>\n",
       "      <th>0</th>\n",
       "      <td>0</td>\n",
       "      <td>Data Scientist</td>\n",
       "      <td>We are looking for Data Scientists who are int...</td>\n",
       "      <td>3.6</td>\n",
       "      <td>GovTech</td>\n",
       "      <td>Singapore</td>\n",
       "      <td>1001 to 5000 employees</td>\n",
       "      <td>2016</td>\n",
       "      <td>Government</td>\n",
       "      <td>Government Agencies</td>\n",
       "      <td>...</td>\n",
       "      <td>0</td>\n",
       "      <td>0</td>\n",
       "      <td>0</td>\n",
       "      <td>1</td>\n",
       "      <td>0</td>\n",
       "      <td>0</td>\n",
       "      <td>1</td>\n",
       "      <td>0</td>\n",
       "      <td>0</td>\n",
       "      <td>0</td>\n",
       "    </tr>\n",
       "    <tr>\n",
       "      <th>1</th>\n",
       "      <td>1</td>\n",
       "      <td>Data Scientist</td>\n",
       "      <td>Location:SingaporeGeography:Asia PacificCapabi...</td>\n",
       "      <td>4.3</td>\n",
       "      <td>Boston Consulting Group</td>\n",
       "      <td>United States</td>\n",
       "      <td>10000+ employees</td>\n",
       "      <td>1963</td>\n",
       "      <td>Company - Private</td>\n",
       "      <td>Consulting</td>\n",
       "      <td>...</td>\n",
       "      <td>0</td>\n",
       "      <td>0</td>\n",
       "      <td>0</td>\n",
       "      <td>1</td>\n",
       "      <td>0</td>\n",
       "      <td>1</td>\n",
       "      <td>1</td>\n",
       "      <td>0</td>\n",
       "      <td>1</td>\n",
       "      <td>1</td>\n",
       "    </tr>\n",
       "    <tr>\n",
       "      <th>2</th>\n",
       "      <td>2</td>\n",
       "      <td>Data Scientist</td>\n",
       "      <td>Data ScientistSingaporeDell provides the techn...</td>\n",
       "      <td>4.1</td>\n",
       "      <td>Dell Technologies</td>\n",
       "      <td>United States</td>\n",
       "      <td>10000+ employees</td>\n",
       "      <td>1984</td>\n",
       "      <td>Company - Public</td>\n",
       "      <td>IT Services</td>\n",
       "      <td>...</td>\n",
       "      <td>1</td>\n",
       "      <td>0</td>\n",
       "      <td>0</td>\n",
       "      <td>1</td>\n",
       "      <td>0</td>\n",
       "      <td>0</td>\n",
       "      <td>0</td>\n",
       "      <td>0</td>\n",
       "      <td>0</td>\n",
       "      <td>0</td>\n",
       "    </tr>\n",
       "    <tr>\n",
       "      <th>3</th>\n",
       "      <td>3</td>\n",
       "      <td>Data Scientist</td>\n",
       "      <td>The Dash Replenishment Service (DRS) is an inn...</td>\n",
       "      <td>4.1</td>\n",
       "      <td>Amazon</td>\n",
       "      <td>United States</td>\n",
       "      <td>10000+ employees</td>\n",
       "      <td>1994</td>\n",
       "      <td>Company - Public</td>\n",
       "      <td>Internet</td>\n",
       "      <td>...</td>\n",
       "      <td>1</td>\n",
       "      <td>0</td>\n",
       "      <td>0</td>\n",
       "      <td>0</td>\n",
       "      <td>0</td>\n",
       "      <td>0</td>\n",
       "      <td>1</td>\n",
       "      <td>0</td>\n",
       "      <td>0</td>\n",
       "      <td>0</td>\n",
       "    </tr>\n",
       "    <tr>\n",
       "      <th>4</th>\n",
       "      <td>4</td>\n",
       "      <td>Data Scientist</td>\n",
       "      <td>AnalyticsData Scientist - QuantumBlackSingapor...</td>\n",
       "      <td>4.1</td>\n",
       "      <td>QuantumBlack</td>\n",
       "      <td>United Kingdom</td>\n",
       "      <td>501 to 1000 employees</td>\n",
       "      <td>2009</td>\n",
       "      <td>Company - Private</td>\n",
       "      <td>Consulting</td>\n",
       "      <td>...</td>\n",
       "      <td>1</td>\n",
       "      <td>0</td>\n",
       "      <td>0</td>\n",
       "      <td>1</td>\n",
       "      <td>1</td>\n",
       "      <td>0</td>\n",
       "      <td>0</td>\n",
       "      <td>0</td>\n",
       "      <td>1</td>\n",
       "      <td>1</td>\n",
       "    </tr>\n",
       "  </tbody>\n",
       "</table>\n",
       "<p>5 rows × 30 columns</p>\n",
       "</div>"
      ],
      "text/plain": [
       "   Unnamed: 0       Job Title  \\\n",
       "0           0  Data Scientist   \n",
       "1           1  Data Scientist   \n",
       "2           2  Data Scientist   \n",
       "3           3  Data Scientist   \n",
       "4           4  Data Scientist   \n",
       "\n",
       "                                     Job Description  Rating  \\\n",
       "0  We are looking for Data Scientists who are int...     3.6   \n",
       "1  Location:SingaporeGeography:Asia PacificCapabi...     4.3   \n",
       "2  Data ScientistSingaporeDell provides the techn...     4.1   \n",
       "3  The Dash Replenishment Service (DRS) is an inn...     4.1   \n",
       "4  AnalyticsData Scientist - QuantumBlackSingapor...     4.1   \n",
       "\n",
       "              Company Name    Headquarters                    Size  Founded  \\\n",
       "0                  GovTech       Singapore  1001 to 5000 employees     2016   \n",
       "1  Boston Consulting Group   United States        10000+ employees     1963   \n",
       "2        Dell Technologies   United States        10000+ employees     1984   \n",
       "3                   Amazon   United States        10000+ employees     1994   \n",
       "4             QuantumBlack  United Kingdom   501 to 1000 employees     2009   \n",
       "\n",
       "   Type of ownership             Industry  ... SQL Calculus  \\\n",
       "0         Government  Government Agencies  ...   0        0   \n",
       "1  Company - Private           Consulting  ...   0        0   \n",
       "2   Company - Public          IT Services  ...   1        0   \n",
       "3   Company - Public             Internet  ...   1        0   \n",
       "4  Company - Private           Consulting  ...   1        0   \n",
       "\n",
       "  Database Management  Machine Learning  Statistics  DevOps  \\\n",
       "0                   0                 1           0       0   \n",
       "1                   0                 1           0       1   \n",
       "2                   0                 1           0       0   \n",
       "3                   0                 0           0       0   \n",
       "4                   0                 1           1       0   \n",
       "\n",
       "   Bachelors Degreee  Masters  PhD  No Education Specified  \n",
       "0                  1        0    0                       0  \n",
       "1                  1        0    1                       1  \n",
       "2                  0        0    0                       0  \n",
       "3                  1        0    0                       0  \n",
       "4                  0        0    1                       1  \n",
       "\n",
       "[5 rows x 30 columns]"
      ]
     },
     "execution_count": 9,
     "metadata": {},
     "output_type": "execute_result"
    }
   ],
   "source": [
    "df = pd.read_excel(\n",
    "    '/Users/james/Documents/GitHub/Exploring-the-Big-Data-and-Analytics-Job-Market-in-Singapore-2020/Job Titles CSV Files/Job_dataset.xlsx')\n",
    "df.head()"
   ]
  },
  {
   "cell_type": "code",
   "execution_count": 10,
   "metadata": {
    "code_folding": []
   },
   "outputs": [
    {
     "data": {
      "text/plain": [
       "Index(['Unnamed: 0', 'Job Title', 'Job Description', 'Rating', 'Company Name',\n",
       "       'Headquarters', 'Size', 'Founded', 'Type of ownership', 'Industry',\n",
       "       'Sector', 'Revenue', 'Seniority', 'AWS', 'Excel', 'Python', 'R',\n",
       "       'Spark', 'Hadoop', 'Scala', 'SQL', 'Calculus', 'Database Management',\n",
       "       'Machine Learning', 'Statistics', 'DevOps', 'Bachelors Degreee',\n",
       "       'Masters', 'PhD', 'No Education Specified'],\n",
       "      dtype='object')"
      ]
     },
     "execution_count": 10,
     "metadata": {},
     "output_type": "execute_result"
    }
   ],
   "source": [
    "# Lisiting all the columns that are in the csv file\n",
    "df.columns"
   ]
  },
  {
   "cell_type": "code",
   "execution_count": 11,
   "metadata": {},
   "outputs": [
    {
     "name": "stdout",
     "output_type": "stream",
     "text": [
      "---------------------- Salary Dataset --------------------------\n"
     ]
    }
   ],
   "source": [
    "print(\"---------------------- Salary Dataset --------------------------\")"
   ]
  },
  {
   "cell_type": "code",
   "execution_count": 15,
   "metadata": {
    "code_folding": []
   },
   "outputs": [
    {
     "data": {
      "text/html": [
       "<div>\n",
       "<style scoped>\n",
       "    .dataframe tbody tr th:only-of-type {\n",
       "        vertical-align: middle;\n",
       "    }\n",
       "\n",
       "    .dataframe tbody tr th {\n",
       "        vertical-align: top;\n",
       "    }\n",
       "\n",
       "    .dataframe thead th {\n",
       "        text-align: right;\n",
       "    }\n",
       "</style>\n",
       "<table border=\"1\" class=\"dataframe\">\n",
       "  <thead>\n",
       "    <tr style=\"text-align: right;\">\n",
       "      <th></th>\n",
       "      <th>Unnamed: 0</th>\n",
       "      <th>Job Title</th>\n",
       "      <th>Position Level</th>\n",
       "      <th>Average Base Pay</th>\n",
       "      <th>Number of Respondents</th>\n",
       "      <th>Number of Listed Jobs</th>\n",
       "    </tr>\n",
       "  </thead>\n",
       "  <tbody>\n",
       "    <tr>\n",
       "      <th>0</th>\n",
       "      <td>0</td>\n",
       "      <td>Data Scientist</td>\n",
       "      <td>Senior</td>\n",
       "      <td>118000</td>\n",
       "      <td>4</td>\n",
       "      <td>928</td>\n",
       "    </tr>\n",
       "    <tr>\n",
       "      <th>1</th>\n",
       "      <td>1</td>\n",
       "      <td>Data Scientist</td>\n",
       "      <td>Junior</td>\n",
       "      <td>52200</td>\n",
       "      <td>3</td>\n",
       "      <td>568</td>\n",
       "    </tr>\n",
       "    <tr>\n",
       "      <th>2</th>\n",
       "      <td>2</td>\n",
       "      <td>Data Engineer</td>\n",
       "      <td>Senior</td>\n",
       "      <td>78000</td>\n",
       "      <td>4</td>\n",
       "      <td>1051</td>\n",
       "    </tr>\n",
       "    <tr>\n",
       "      <th>3</th>\n",
       "      <td>3</td>\n",
       "      <td>Data Engineer</td>\n",
       "      <td>Junior</td>\n",
       "      <td>48000</td>\n",
       "      <td>1</td>\n",
       "      <td>4334</td>\n",
       "    </tr>\n",
       "    <tr>\n",
       "      <th>4</th>\n",
       "      <td>4</td>\n",
       "      <td>Data Analyst</td>\n",
       "      <td>Senior</td>\n",
       "      <td>57600</td>\n",
       "      <td>12</td>\n",
       "      <td>923</td>\n",
       "    </tr>\n",
       "    <tr>\n",
       "      <th>5</th>\n",
       "      <td>5</td>\n",
       "      <td>Data Analyst</td>\n",
       "      <td>Junior</td>\n",
       "      <td>51800</td>\n",
       "      <td>33</td>\n",
       "      <td>252</td>\n",
       "    </tr>\n",
       "    <tr>\n",
       "      <th>6</th>\n",
       "      <td>6</td>\n",
       "      <td>Technology Consultant</td>\n",
       "      <td>Senior</td>\n",
       "      <td>84000</td>\n",
       "      <td>1</td>\n",
       "      <td>821</td>\n",
       "    </tr>\n",
       "    <tr>\n",
       "      <th>7</th>\n",
       "      <td>7</td>\n",
       "      <td>Technology Consultant</td>\n",
       "      <td>Junior</td>\n",
       "      <td>75600</td>\n",
       "      <td>9</td>\n",
       "      <td>1902</td>\n",
       "    </tr>\n",
       "    <tr>\n",
       "      <th>8</th>\n",
       "      <td>8</td>\n",
       "      <td>Quantitative Analyst</td>\n",
       "      <td>Junior</td>\n",
       "      <td>120000</td>\n",
       "      <td>9</td>\n",
       "      <td>512</td>\n",
       "    </tr>\n",
       "    <tr>\n",
       "      <th>9</th>\n",
       "      <td>9</td>\n",
       "      <td>Machine Learning Engineer</td>\n",
       "      <td>Junior</td>\n",
       "      <td>68400</td>\n",
       "      <td>8</td>\n",
       "      <td>723</td>\n",
       "    </tr>\n",
       "  </tbody>\n",
       "</table>\n",
       "</div>"
      ],
      "text/plain": [
       "   Unnamed: 0                  Job Title Position Level  Average Base Pay  \\\n",
       "0           0             Data Scientist         Senior            118000   \n",
       "1           1             Data Scientist         Junior             52200   \n",
       "2           2              Data Engineer         Senior             78000   \n",
       "3           3              Data Engineer         Junior             48000   \n",
       "4           4               Data Analyst         Senior             57600   \n",
       "5           5               Data Analyst         Junior             51800   \n",
       "6           6      Technology Consultant         Senior             84000   \n",
       "7           7      Technology Consultant         Junior             75600   \n",
       "8           8       Quantitative Analyst         Junior            120000   \n",
       "9           9  Machine Learning Engineer         Junior             68400   \n",
       "\n",
       "   Number of Respondents  Number of Listed Jobs  \n",
       "0                      4                    928  \n",
       "1                      3                    568  \n",
       "2                      4                   1051  \n",
       "3                      1                   4334  \n",
       "4                     12                    923  \n",
       "5                     33                    252  \n",
       "6                      1                    821  \n",
       "7                      9                   1902  \n",
       "8                      9                    512  \n",
       "9                      8                    723  "
      ]
     },
     "execution_count": 15,
     "metadata": {},
     "output_type": "execute_result"
    }
   ],
   "source": [
    "salary_df = pd.read_excel(\n",
    "    '/Users/james/Documents/GitHub/Exploring-the-Big-Data-and-Analytics-Job-Market-in-Singapore-2020/Job Titles CSV Files/Salary by title.xlsx')\n",
    "salary_df"
   ]
  },
  {
   "cell_type": "markdown",
   "metadata": {},
   "source": [
    "<a id = \"point_3\"></a>\n",
    "## 3. Exploratory Analysis"
   ]
  },
  {
   "cell_type": "markdown",
   "metadata": {},
   "source": [
    "<a id = \"point_3_1\"></a>\n",
    "### 3.1 One Important Caveat"
   ]
  },
  {
   "cell_type": "markdown",
   "metadata": {},
   "source": [
    "An Important Caveat I would like to make which I believe is important to address before I begin my Exploratory Analysis is how representative the salary statistics I gathered is. As I have outputted in Section 2, it can be seen that the number of respondents for the Glassdoor Singapore Data related jobs is the extremely small sample size that is available. Therefore, it's important to note that this results is an indication and estimated for us to have a better understanding of the current salaries in this industry but should not be taken as the **yardstick**.\n",
    "\n",
    "<br> Looking at other resources available, I have found that Glassdoor was my choice website to obtain my data despite the limitations due to its unbiasness which I deemed as an important element of this project."
   ]
  },
  {
   "cell_type": "markdown",
   "metadata": {},
   "source": [
    "<a id = \"point_3_2\"></a>\n",
    "### 3.2 Average Base Pay Comparison Across Job Titles\n",
    "We want to compare the average base pay for the different job titles. And within the job titles, if there's any deviations in salary for the level of seniority. "
   ]
  },
  {
   "cell_type": "code",
   "execution_count": 16,
   "metadata": {
    "code_folding": [],
    "hide_input": false
   },
   "outputs": [
    {
     "data": {
      "image/png": "[encoded data removed]",
      "text/plain": [
       "<Figure size 1043.3x360 with 1 Axes>"
      ]
     },
     "metadata": {},
     "output_type": "display_data"
    }
   ],
   "source": [
    "sns.set(style=\"whitegrid\")\n",
    "\n",
    "fig = sns.catplot(x=\"Job Title\", y=\"Average Base Pay\", hue=\"Position Level\", data=salary_df,\n",
    "                  kind=\"bar\", palette=\"muted\", aspect=8/3)\n",
    "fig.despine(left=True)\n",
    "fig.set_ylabels(\"Average Base Pay\")\n",
    "fig.set(title=\"Pay Comparison for Various Job Titles\")\n",
    "fig.savefig(\"Average Base Pay Comparison Across Job Titles.png\")"
   ]
  },
  {
   "cell_type": "markdown",
   "metadata": {},
   "source": [
    "**Findings:** The salary plot allows us to see that the best paid position is as a Quantitative Analyst, followed closely by the Senior Data Scientist and Senior Technology Consultant.\n",
    "<br> For fresh graduates, the expected pay for the Data Scientist/Engineer/Analyst role is **S\\\\$ 50666 /year or S\\\\$ 4222 /month**."
   ]
  },
  {
   "cell_type": "markdown",
   "metadata": {},
   "source": [
    "<a id = \"point_3_3\"></a>\n",
    "### 3.3 Number of Jobs listed on Glassdoor\n",
    "We want to compare across the different job titles how many avaialbe positions are there listed on Glassdoor."
   ]
  },
  {
   "cell_type": "code",
   "execution_count": 17,
   "metadata": {},
   "outputs": [],
   "source": [
    "df_jobs_available = df['Job Title'].value_counts().rename_axis(\n",
    "    'Job Title').reset_index(name='Number of Jobs')"
   ]
  },
  {
   "cell_type": "code",
   "execution_count": 18,
   "metadata": {},
   "outputs": [
    {
     "data": {
      "image/png": "[encoded data removed]",
      "text/plain": [
       "<Figure size 432x288 with 1 Axes>"
      ]
     },
     "metadata": {},
     "output_type": "display_data"
    }
   ],
   "source": [
    "sns.set(style=\"whitegrid\")\n",
    "sns_plot = sns.barplot(x=\"Job Title\", y=\"Number of Jobs\", data=df_jobs_available).set_title(\n",
    "    'Number of Jobs listed on Glassdoor')\n",
    "sns.set(rc={'figure.figsize': (16, 8)})\n",
    "sns_plot.figure.savefig(\"Number of Jobs listed on Glassdoor.png\")"
   ]
  },
  {
   "cell_type": "code",
   "execution_count": 19,
   "metadata": {},
   "outputs": [
    {
     "data": {
      "text/html": [
       "<div>\n",
       "<style scoped>\n",
       "    .dataframe tbody tr th:only-of-type {\n",
       "        vertical-align: middle;\n",
       "    }\n",
       "\n",
       "    .dataframe tbody tr th {\n",
       "        vertical-align: top;\n",
       "    }\n",
       "\n",
       "    .dataframe thead th {\n",
       "        text-align: right;\n",
       "    }\n",
       "</style>\n",
       "<table border=\"1\" class=\"dataframe\">\n",
       "  <thead>\n",
       "    <tr style=\"text-align: right;\">\n",
       "      <th></th>\n",
       "      <th>Job Title</th>\n",
       "      <th>Number of Jobs</th>\n",
       "    </tr>\n",
       "  </thead>\n",
       "  <tbody>\n",
       "    <tr>\n",
       "      <th>0</th>\n",
       "      <td>Data Scientist</td>\n",
       "      <td>925</td>\n",
       "    </tr>\n",
       "    <tr>\n",
       "      <th>1</th>\n",
       "      <td>Data Analyst</td>\n",
       "      <td>477</td>\n",
       "    </tr>\n",
       "    <tr>\n",
       "      <th>2</th>\n",
       "      <td>Data Engineer</td>\n",
       "      <td>440</td>\n",
       "    </tr>\n",
       "    <tr>\n",
       "      <th>3</th>\n",
       "      <td>Manager</td>\n",
       "      <td>129</td>\n",
       "    </tr>\n",
       "    <tr>\n",
       "      <th>4</th>\n",
       "      <td>Machine Learning Engineer</td>\n",
       "      <td>61</td>\n",
       "    </tr>\n",
       "    <tr>\n",
       "      <th>5</th>\n",
       "      <td>Director</td>\n",
       "      <td>17</td>\n",
       "    </tr>\n",
       "  </tbody>\n",
       "</table>\n",
       "</div>"
      ],
      "text/plain": [
       "                   Job Title  Number of Jobs\n",
       "0             Data Scientist             925\n",
       "1               Data Analyst             477\n",
       "2              Data Engineer             440\n",
       "3                    Manager             129\n",
       "4  Machine Learning Engineer              61\n",
       "5                   Director              17"
      ]
     },
     "execution_count": 19,
     "metadata": {},
     "output_type": "execute_result"
    }
   ],
   "source": [
    "df_jobs_available"
   ]
  },
  {
   "cell_type": "code",
   "execution_count": 24,
   "metadata": {},
   "outputs": [
    {
     "name": "stdout",
     "output_type": "stream",
     "text": [
      "The total number of job listings found on Glassdoor is 2049\n",
      "\n",
      "\n"
     ]
    }
   ],
   "source": [
    "total_jobs = df_jobs_available[\"Number of Jobs\"].sum()\n",
    "print(\"The total number of job listings found on Glassdoor is \"  + str(total_jobs))\n",
    "print(\"\\n\")"
   ]
  },
  {
   "cell_type": "markdown",
   "metadata": {},
   "source": [
    "**Findings:** We found that the Data Scientist job title has the most number of jobs available by a large margin with 925 jobs. Followed by Data Analyst and Data Engineer with 477 and 440 jobs postings respectively.\n",
    "<br> Surprisingly, there were more managerial positions for the Data Driven jobs compared to machine learning engineer. "
   ]
  },
  {
   "cell_type": "markdown",
   "metadata": {},
   "source": [
    "<a id = \"point_3_4\"></a>\n",
    "### 3.4 Technical Skills\n",
    "The technology industry is heavily dependent on the proficiency of the technical skill sets. Therefore, I searched through the Job Description and pulled out the technical skills requested by companies.\n",
    "<br> Methodology: I searched through the job description and pull the top 8 most mentioned technical skillset. There are 2 representations which are (1) Dataframe and (2) Histogram."
   ]
  },
  {
   "cell_type": "code",
   "execution_count": 26,
   "metadata": {},
   "outputs": [
    {
     "name": "stdout",
     "output_type": "stream",
     "text": [
      "{'AWS': 328, 'Excel': 763, 'Python': 1351, 'R': 159, 'Spark': 629, 'Hadoop': 531, 'Scala': 509, 'SQL': 1193}\n"
     ]
    }
   ],
   "source": [
    "# Creating dictionary counting the number of times a particular technical skill is called\n",
    "technical_skills = ['AWS', 'Excel', 'Python',\n",
    "                    'R', 'Spark', 'Hadoop', 'Scala', 'SQL']\n",
    "adict = {}\n",
    "for every_skill in technical_skills:\n",
    "    that_sum = df[every_skill].sum()\n",
    "    adict[every_skill] = that_sum\n",
    "\n",
    "print(adict)"
   ]
  },
  {
   "cell_type": "code",
   "execution_count": 30,
   "metadata": {},
   "outputs": [
    {
     "data": {
      "text/html": [
       "<div>\n",
       "<style scoped>\n",
       "    .dataframe tbody tr th:only-of-type {\n",
       "        vertical-align: middle;\n",
       "    }\n",
       "\n",
       "    .dataframe tbody tr th {\n",
       "        vertical-align: top;\n",
       "    }\n",
       "\n",
       "    .dataframe thead th {\n",
       "        text-align: right;\n",
       "    }\n",
       "</style>\n",
       "<table border=\"1\" class=\"dataframe\">\n",
       "  <thead>\n",
       "    <tr style=\"text-align: right;\">\n",
       "      <th></th>\n",
       "      <th>Technical Skills</th>\n",
       "      <th>Frequency</th>\n",
       "      <th>Relative Frequency, %</th>\n",
       "    </tr>\n",
       "  </thead>\n",
       "  <tbody>\n",
       "    <tr>\n",
       "      <th>0</th>\n",
       "      <td>AWS</td>\n",
       "      <td>328</td>\n",
       "      <td>0.16</td>\n",
       "    </tr>\n",
       "    <tr>\n",
       "      <th>1</th>\n",
       "      <td>Excel</td>\n",
       "      <td>763</td>\n",
       "      <td>0.37</td>\n",
       "    </tr>\n",
       "    <tr>\n",
       "      <th>2</th>\n",
       "      <td>Python</td>\n",
       "      <td>1351</td>\n",
       "      <td>0.66</td>\n",
       "    </tr>\n",
       "    <tr>\n",
       "      <th>3</th>\n",
       "      <td>R</td>\n",
       "      <td>159</td>\n",
       "      <td>0.08</td>\n",
       "    </tr>\n",
       "    <tr>\n",
       "      <th>4</th>\n",
       "      <td>Spark</td>\n",
       "      <td>629</td>\n",
       "      <td>0.31</td>\n",
       "    </tr>\n",
       "    <tr>\n",
       "      <th>5</th>\n",
       "      <td>Hadoop</td>\n",
       "      <td>531</td>\n",
       "      <td>0.26</td>\n",
       "    </tr>\n",
       "    <tr>\n",
       "      <th>6</th>\n",
       "      <td>Scala</td>\n",
       "      <td>509</td>\n",
       "      <td>0.25</td>\n",
       "    </tr>\n",
       "    <tr>\n",
       "      <th>7</th>\n",
       "      <td>SQL</td>\n",
       "      <td>1193</td>\n",
       "      <td>0.58</td>\n",
       "    </tr>\n",
       "  </tbody>\n",
       "</table>\n",
       "</div>"
      ],
      "text/plain": [
       "  Technical Skills  Frequency  Relative Frequency, %\n",
       "0              AWS        328                   0.16\n",
       "1            Excel        763                   0.37\n",
       "2           Python       1351                   0.66\n",
       "3                R        159                   0.08\n",
       "4            Spark        629                   0.31\n",
       "5           Hadoop        531                   0.26\n",
       "6            Scala        509                   0.25\n",
       "7              SQL       1193                   0.58"
      ]
     },
     "execution_count": 30,
     "metadata": {},
     "output_type": "execute_result"
    }
   ],
   "source": [
    "# Representing these numbers with a dataframe\n",
    "df_technical_skill = DataFrame(list(adict.items()), columns=[\n",
    "                               'Technical Skills', 'Frequency'])\n",
    "df_technical_skill[\"Relative Frequency, %\"] = round(df_technical_skill[\"Frequency\"]/total_jobs, 2)\n",
    "df_technical_skill"
   ]
  },
  {
   "cell_type": "code",
   "execution_count": 31,
   "metadata": {},
   "outputs": [
    {
     "data": {
      "image/png": "[encoded data removed]",
      "text/plain": [
       "<Figure size 1152x576 with 1 Axes>"
      ]
     },
     "metadata": {},
     "output_type": "display_data"
    }
   ],
   "source": [
    "# Creating barplot representing the values in the dataframe\n",
    "sns.set(style=\"whitegrid\")\n",
    "sns_plot = sns.barplot(x=\"Technical Skills\", y=\"Frequency\", data=df_technical_skill).set_title(\n",
    "    'Technical Skills requested for Job')\n",
    "sns.set(rc={'figure.figsize': (16, 8)})\n",
    "sns_plot.figure.savefig(\"Technical Skills requested for Job.png\")"
   ]
  },
  {
   "cell_type": "markdown",
   "metadata": {},
   "source": [
    "**Findings:** As I expected Python was the most requested skillset that employer wanted prospective hires to have, it's closely followed by SQL. Big data platforms such as Apache Spark and Hadoop alongside Scala are relatively high in demand as well.\n",
    "<br> I was very surprise to see that R was not highly requested in the technology industry but I postulate that R is used greater in academic circles."
   ]
  },
  {
   "cell_type": "markdown",
   "metadata": {},
   "source": [
    "<a id = \"point_3_5\"></a>\n",
    "### 3.5 Academic Skills\n",
    "On top of the technical skills that are required for the technology jobs, there's an importance of academic skills with the heavy use of mathematical concepts in this industry. I'll search through the job description and find the academic skillset that companies are looking forwards."
   ]
  },
  {
   "cell_type": "code",
   "execution_count": 33,
   "metadata": {},
   "outputs": [],
   "source": [
    "# Creating dictionary counting the number of times a particular academic skill is called\n",
    "academic_skills = ['Calculus', 'Database Management',\n",
    "                   'Machine Learning', 'Statistics', 'DevOps']\n",
    "adict1 = {}\n",
    "for every_skill in academic_skills:\n",
    "    that_sum = df[every_skill].sum()\n",
    "    adict1[every_skill] = that_sum"
   ]
  },
  {
   "cell_type": "code",
   "execution_count": 34,
   "metadata": {},
   "outputs": [
    {
     "data": {
      "text/html": [
       "<div>\n",
       "<style scoped>\n",
       "    .dataframe tbody tr th:only-of-type {\n",
       "        vertical-align: middle;\n",
       "    }\n",
       "\n",
       "    .dataframe tbody tr th {\n",
       "        vertical-align: top;\n",
       "    }\n",
       "\n",
       "    .dataframe thead th {\n",
       "        text-align: right;\n",
       "    }\n",
       "</style>\n",
       "<table border=\"1\" class=\"dataframe\">\n",
       "  <thead>\n",
       "    <tr style=\"text-align: right;\">\n",
       "      <th></th>\n",
       "      <th>Academic Skills</th>\n",
       "      <th>Frequency</th>\n",
       "      <th>Relative Frequency, %</th>\n",
       "    </tr>\n",
       "  </thead>\n",
       "  <tbody>\n",
       "    <tr>\n",
       "      <th>0</th>\n",
       "      <td>Calculus</td>\n",
       "      <td>0</td>\n",
       "      <td>0.00</td>\n",
       "    </tr>\n",
       "    <tr>\n",
       "      <th>1</th>\n",
       "      <td>Database Management</td>\n",
       "      <td>24</td>\n",
       "      <td>0.01</td>\n",
       "    </tr>\n",
       "    <tr>\n",
       "      <th>2</th>\n",
       "      <td>Machine Learning</td>\n",
       "      <td>1047</td>\n",
       "      <td>0.51</td>\n",
       "    </tr>\n",
       "    <tr>\n",
       "      <th>3</th>\n",
       "      <td>Statistics</td>\n",
       "      <td>24</td>\n",
       "      <td>0.01</td>\n",
       "    </tr>\n",
       "    <tr>\n",
       "      <th>4</th>\n",
       "      <td>DevOps</td>\n",
       "      <td>85</td>\n",
       "      <td>0.04</td>\n",
       "    </tr>\n",
       "  </tbody>\n",
       "</table>\n",
       "</div>"
      ],
      "text/plain": [
       "       Academic Skills  Frequency  Relative Frequency, %\n",
       "0             Calculus          0                   0.00\n",
       "1  Database Management         24                   0.01\n",
       "2     Machine Learning       1047                   0.51\n",
       "3           Statistics         24                   0.01\n",
       "4               DevOps         85                   0.04"
      ]
     },
     "execution_count": 34,
     "metadata": {},
     "output_type": "execute_result"
    }
   ],
   "source": [
    "# Representing these numbers with a dataframe\n",
    "df_academic_skill = DataFrame(list(adict1.items()), columns=[\n",
    "                              'Academic Skills', 'Frequency'])\n",
    "df_academic_skill[\"Relative Frequency, %\"] = round(df_academic_skill[\"Frequency\"]/total_jobs, 2)\n",
    "df_academic_skill"
   ]
  },
  {
   "cell_type": "code",
   "execution_count": 35,
   "metadata": {},
   "outputs": [
    {
     "data": {
      "image/png": "[encoded data removed]",
      "text/plain": [
       "<Figure size 1152x576 with 1 Axes>"
      ]
     },
     "metadata": {},
     "output_type": "display_data"
    }
   ],
   "source": [
    "# Creating barplot representing the values in the dataframe\n",
    "sns.set(style=\"whitegrid\")\n",
    "sns_plot = sns.barplot(x=\"Academic Skills\", y=\"Frequency\", data=df_academic_skill).set_title(\n",
    "    'Academic Skills requested for Job')\n",
    "sns.set(rc={'figure.figsize': (16, 8)})\n",
    "sns_plot.figure.savefig(\"Academic Skills requested for Job.png\")"
   ]
  },
  {
   "cell_type": "markdown",
   "metadata": {},
   "source": [
    "**Findings:** Unsurprinsingly, the top academic skill set looked for by employers is Machine Learning with predictive analysis. However other academic skills sets such as DevOps, Statistics and Database Management is actually rarely mention, and Calculus was not mention at all. \n",
    "<br> I postulate that many employers believe that these skills should be instilled into them during their academic training. Therefore, in the next sub-section, I'll investigate the education level that employers expect."
   ]
  },
  {
   "cell_type": "markdown",
   "metadata": {},
   "source": [
    "<a id = \"point_3_6\"></a>\n",
    "### 3.6 Education Level\n",
    "Education is a big part of our lives, and I would want to know what education levels are they looking for."
   ]
  },
  {
   "cell_type": "code",
   "execution_count": 36,
   "metadata": {},
   "outputs": [
    {
     "data": {
      "text/plain": [
       "Index(['Unnamed: 0', 'Job Title', 'Job Description', 'Rating', 'Company Name',\n",
       "       'Headquarters', 'Size', 'Founded', 'Type of ownership', 'Industry',\n",
       "       'Sector', 'Revenue', 'Seniority', 'AWS', 'Excel', 'Python', 'R',\n",
       "       'Spark', 'Hadoop', 'Scala', 'SQL', 'Calculus', 'Database Management',\n",
       "       'Machine Learning', 'Statistics', 'DevOps', 'Bachelors Degreee',\n",
       "       'Masters', 'PhD', 'No Education Specified'],\n",
       "      dtype='object')"
      ]
     },
     "execution_count": 36,
     "metadata": {},
     "output_type": "execute_result"
    }
   ],
   "source": [
    "df.columns"
   ]
  },
  {
   "cell_type": "code",
   "execution_count": 37,
   "metadata": {},
   "outputs": [
    {
     "data": {
      "text/plain": [
       "{'Bachelors Degreee': 1035,\n",
       " 'Masters': 232,\n",
       " 'PhD': 299,\n",
       " 'No Education Specified': 299}"
      ]
     },
     "execution_count": 37,
     "metadata": {},
     "output_type": "execute_result"
    }
   ],
   "source": [
    "# Creating dictionary counting the number of times a particular Education Level is called\n",
    "education_level = ['Bachelors Degreee', 'Masters','PhD', 'No Education Specified']\n",
    "adict2 = {}\n",
    "for every_level in education_level:\n",
    "    that_sum = df[every_level].sum()\n",
    "    adict2[every_level] = that_sum\n",
    "adict2"
   ]
  },
  {
   "cell_type": "code",
   "execution_count": 38,
   "metadata": {},
   "outputs": [
    {
     "data": {
      "text/html": [
       "<div>\n",
       "<style scoped>\n",
       "    .dataframe tbody tr th:only-of-type {\n",
       "        vertical-align: middle;\n",
       "    }\n",
       "\n",
       "    .dataframe tbody tr th {\n",
       "        vertical-align: top;\n",
       "    }\n",
       "\n",
       "    .dataframe thead th {\n",
       "        text-align: right;\n",
       "    }\n",
       "</style>\n",
       "<table border=\"1\" class=\"dataframe\">\n",
       "  <thead>\n",
       "    <tr style=\"text-align: right;\">\n",
       "      <th></th>\n",
       "      <th>Education Level</th>\n",
       "      <th>Frequency</th>\n",
       "      <th>Relative Frequency, %</th>\n",
       "    </tr>\n",
       "  </thead>\n",
       "  <tbody>\n",
       "    <tr>\n",
       "      <th>0</th>\n",
       "      <td>Bachelors Degreee</td>\n",
       "      <td>1035</td>\n",
       "      <td>0.51</td>\n",
       "    </tr>\n",
       "    <tr>\n",
       "      <th>1</th>\n",
       "      <td>Masters</td>\n",
       "      <td>232</td>\n",
       "      <td>0.11</td>\n",
       "    </tr>\n",
       "    <tr>\n",
       "      <th>2</th>\n",
       "      <td>PhD</td>\n",
       "      <td>299</td>\n",
       "      <td>0.15</td>\n",
       "    </tr>\n",
       "    <tr>\n",
       "      <th>3</th>\n",
       "      <td>No Education Specified</td>\n",
       "      <td>299</td>\n",
       "      <td>0.15</td>\n",
       "    </tr>\n",
       "  </tbody>\n",
       "</table>\n",
       "</div>"
      ],
      "text/plain": [
       "          Education Level  Frequency  Relative Frequency, %\n",
       "0       Bachelors Degreee       1035                   0.51\n",
       "1                 Masters        232                   0.11\n",
       "2                     PhD        299                   0.15\n",
       "3  No Education Specified        299                   0.15"
      ]
     },
     "execution_count": 38,
     "metadata": {},
     "output_type": "execute_result"
    }
   ],
   "source": [
    "df_education_level = DataFrame(list(adict2.items()), columns=[\n",
    "                              'Education Level', 'Frequency'])\n",
    "df_education_level[\"Relative Frequency, %\"] = round(df_education_level[\"Frequency\"]/total_jobs, 2)\n",
    "df_education_level"
   ]
  },
  {
   "cell_type": "code",
   "execution_count": 39,
   "metadata": {},
   "outputs": [
    {
     "data": {
      "image/png": "[encoded data removed]",
      "text/plain": [
       "<Figure size 1152x576 with 1 Axes>"
      ]
     },
     "metadata": {},
     "output_type": "display_data"
    }
   ],
   "source": [
    "# Creating barplot representing the values in the dataframe\n",
    "sns.set(style=\"whitegrid\")\n",
    "sns_plot = sns.barplot(x=\"Education Level\", y=\"Frequency\", data=df_education_level).set_title(\n",
    "    'Education Level requested for Job')\n",
    "sns.set(rc={'figure.figsize': (16, 8)})\n",
    "sns_plot.figure.savefig(\"Minimum Education Level required.png\")"
   ]
  },
  {
   "cell_type": "markdown",
   "metadata": {},
   "source": [
    "**Findings:** I found that most jobs posting for data-driven jobs look for hires with Bachelors Degree. However, it can be noted that there's a sizeable numbers of employers looking for masters and PhD level of qualification.  There's a sizeable portion of employers who do not specify university level of qualification either as they do not require a university qualification or they omitted the education level in the Job Description."
   ]
  },
  {
   "cell_type": "markdown",
   "metadata": {},
   "source": [
    "<a id = \"point_3_7\"></a>\n",
    "### 3.7 Job demand by Ownership\n",
    "Data related jobs are on the rise, but I want to investigate where this demand for jobs are at. \n",
    "<br> Methodology: To represent the job demand by Ownership, I'll use the Treemap graph to visualize the results."
   ]
  },
  {
   "cell_type": "code",
   "execution_count": 47,
   "metadata": {},
   "outputs": [],
   "source": [
    "# We drop the rows with null values and count the number of jobs by type of ownership\n",
    "df_ownership = df[df['Type of ownership'] != '-1']\n",
    "df_ownership = df_ownership['Type of ownership'].value_counts(\n",
    ").rename_axis('Ownership').reset_index(name='Number of Jobs')"
   ]
  },
  {
   "cell_type": "code",
   "execution_count": 48,
   "metadata": {},
   "outputs": [
    {
     "data": {
      "text/html": [
       "<div>\n",
       "<style scoped>\n",
       "    .dataframe tbody tr th:only-of-type {\n",
       "        vertical-align: middle;\n",
       "    }\n",
       "\n",
       "    .dataframe tbody tr th {\n",
       "        vertical-align: top;\n",
       "    }\n",
       "\n",
       "    .dataframe thead th {\n",
       "        text-align: right;\n",
       "    }\n",
       "</style>\n",
       "<table border=\"1\" class=\"dataframe\">\n",
       "  <thead>\n",
       "    <tr style=\"text-align: right;\">\n",
       "      <th></th>\n",
       "      <th>Ownership</th>\n",
       "      <th>Number of Jobs</th>\n",
       "      <th>Relative Frequency, %</th>\n",
       "    </tr>\n",
       "  </thead>\n",
       "  <tbody>\n",
       "    <tr>\n",
       "      <th>0</th>\n",
       "      <td>Company - Private</td>\n",
       "      <td>815</td>\n",
       "      <td>0.40</td>\n",
       "    </tr>\n",
       "    <tr>\n",
       "      <th>1</th>\n",
       "      <td>Company - Public</td>\n",
       "      <td>503</td>\n",
       "      <td>0.25</td>\n",
       "    </tr>\n",
       "    <tr>\n",
       "      <th>2</th>\n",
       "      <td>Government</td>\n",
       "      <td>258</td>\n",
       "      <td>0.13</td>\n",
       "    </tr>\n",
       "    <tr>\n",
       "      <th>3</th>\n",
       "      <td>Subsidiary or Business Segment</td>\n",
       "      <td>33</td>\n",
       "      <td>0.02</td>\n",
       "    </tr>\n",
       "    <tr>\n",
       "      <th>4</th>\n",
       "      <td>College / University</td>\n",
       "      <td>16</td>\n",
       "      <td>0.01</td>\n",
       "    </tr>\n",
       "    <tr>\n",
       "      <th>5</th>\n",
       "      <td>Unknown</td>\n",
       "      <td>9</td>\n",
       "      <td>0.00</td>\n",
       "    </tr>\n",
       "    <tr>\n",
       "      <th>6</th>\n",
       "      <td>Contract</td>\n",
       "      <td>9</td>\n",
       "      <td>0.00</td>\n",
       "    </tr>\n",
       "  </tbody>\n",
       "</table>\n",
       "</div>"
      ],
      "text/plain": [
       "                        Ownership  Number of Jobs  Relative Frequency, %\n",
       "0               Company - Private             815                   0.40\n",
       "1                Company - Public             503                   0.25\n",
       "2                      Government             258                   0.13\n",
       "3  Subsidiary or Business Segment              33                   0.02\n",
       "4            College / University              16                   0.01\n",
       "5                         Unknown               9                   0.00\n",
       "6                        Contract               9                   0.00"
      ]
     },
     "execution_count": 48,
     "metadata": {},
     "output_type": "execute_result"
    }
   ],
   "source": [
    "# Specific number of jobs by the different ownership\n",
    "df_ownership[\"Relative Frequency, %\"] = round(df_ownership[\"Number of Jobs\"]/total_jobs, 2)\n",
    "df_ownership"
   ]
  },
  {
   "cell_type": "code",
   "execution_count": 49,
   "metadata": {},
   "outputs": [
    {
     "data": {
      "image/png": "[encoded data removed]",
      "text/plain": [
       "<Figure size 1152x576 with 1 Axes>"
      ]
     },
     "metadata": {},
     "output_type": "display_data"
    },
    {
     "data": {
      "text/plain": [
       "<Figure size 1152x576 with 0 Axes>"
      ]
     },
     "metadata": {},
     "output_type": "display_data"
    }
   ],
   "source": [
    "# Creating the Tree Map Visualisation\n",
    "squarify.plot(sizes=df_ownership['Number of Jobs'],\n",
    "              label=df_ownership['Ownership'], alpha=.8)\n",
    "plt.show()\n",
    "plt.savefig('Job demand by Ownership.png')"
   ]
  },
  {
   "cell_type": "markdown",
   "metadata": {},
   "source": [
    "**Findings:** We found that by ownership, the biggest hire of data driven jobs is the private sector. Followed by public companies and government firms. This is not surprising that private and public company are the biggest players, as they are profit driven and would want to capitalise on new technology and skill set that can help to streamline their operations."
   ]
  },
  {
   "cell_type": "markdown",
   "metadata": {},
   "source": [
    "<a id = \"point_3_8\"></a>\n",
    "### 3.8 Job demand by Industry\n",
    "Data related jobs are on the rise, but I want to investigate where this demand for jobs are at. \n",
    "<br> Methodology: To represent the job demand by industry, I'll use the Treemap graph to visualize the results."
   ]
  },
  {
   "cell_type": "code",
   "execution_count": 50,
   "metadata": {},
   "outputs": [],
   "source": [
    "# We drop the rows with null values and count the number of jobs by industry\n",
    "df_industry = df[df['Industry'] != '-1']\n",
    "df_industry = df_industry['Industry'].value_counts().rename_axis(\n",
    "    'Industry').reset_index(name='Number of Jobs')"
   ]
  },
  {
   "cell_type": "code",
   "execution_count": 51,
   "metadata": {},
   "outputs": [
    {
     "data": {
      "text/html": [
       "<div>\n",
       "<style scoped>\n",
       "    .dataframe tbody tr th:only-of-type {\n",
       "        vertical-align: middle;\n",
       "    }\n",
       "\n",
       "    .dataframe tbody tr th {\n",
       "        vertical-align: top;\n",
       "    }\n",
       "\n",
       "    .dataframe thead th {\n",
       "        text-align: right;\n",
       "    }\n",
       "</style>\n",
       "<table border=\"1\" class=\"dataframe\">\n",
       "  <thead>\n",
       "    <tr style=\"text-align: right;\">\n",
       "      <th></th>\n",
       "      <th>Industry</th>\n",
       "      <th>Number of Jobs</th>\n",
       "      <th>Relative Frequency, %</th>\n",
       "    </tr>\n",
       "  </thead>\n",
       "  <tbody>\n",
       "    <tr>\n",
       "      <th>0</th>\n",
       "      <td>Government Agencies</td>\n",
       "      <td>264</td>\n",
       "      <td>0.13</td>\n",
       "    </tr>\n",
       "    <tr>\n",
       "      <th>1</th>\n",
       "      <td>Internet</td>\n",
       "      <td>159</td>\n",
       "      <td>0.08</td>\n",
       "    </tr>\n",
       "    <tr>\n",
       "      <th>2</th>\n",
       "      <td>Staffing &amp; Outsourcing</td>\n",
       "      <td>112</td>\n",
       "      <td>0.05</td>\n",
       "    </tr>\n",
       "    <tr>\n",
       "      <th>3</th>\n",
       "      <td>Banks &amp; Building Societies</td>\n",
       "      <td>102</td>\n",
       "      <td>0.05</td>\n",
       "    </tr>\n",
       "    <tr>\n",
       "      <th>4</th>\n",
       "      <td>IT Services</td>\n",
       "      <td>83</td>\n",
       "      <td>0.04</td>\n",
       "    </tr>\n",
       "    <tr>\n",
       "      <th>5</th>\n",
       "      <td>Investment Banking &amp; Asset Management</td>\n",
       "      <td>73</td>\n",
       "      <td>0.04</td>\n",
       "    </tr>\n",
       "    <tr>\n",
       "      <th>6</th>\n",
       "      <td>Consulting</td>\n",
       "      <td>64</td>\n",
       "      <td>0.03</td>\n",
       "    </tr>\n",
       "    <tr>\n",
       "      <th>7</th>\n",
       "      <td>Computer Hardware &amp; Software</td>\n",
       "      <td>50</td>\n",
       "      <td>0.02</td>\n",
       "    </tr>\n",
       "    <tr>\n",
       "      <th>8</th>\n",
       "      <td>Enterprise Software &amp; Network Solutions</td>\n",
       "      <td>43</td>\n",
       "      <td>0.02</td>\n",
       "    </tr>\n",
       "    <tr>\n",
       "      <th>9</th>\n",
       "      <td>Other Retail Shops</td>\n",
       "      <td>27</td>\n",
       "      <td>0.01</td>\n",
       "    </tr>\n",
       "    <tr>\n",
       "      <th>10</th>\n",
       "      <td>Accounting</td>\n",
       "      <td>25</td>\n",
       "      <td>0.01</td>\n",
       "    </tr>\n",
       "    <tr>\n",
       "      <th>11</th>\n",
       "      <td>Cable, Internet &amp; Telephone Providers</td>\n",
       "      <td>25</td>\n",
       "      <td>0.01</td>\n",
       "    </tr>\n",
       "    <tr>\n",
       "      <th>12</th>\n",
       "      <td>Healthcare Services &amp; Hospitals</td>\n",
       "      <td>23</td>\n",
       "      <td>0.01</td>\n",
       "    </tr>\n",
       "    <tr>\n",
       "      <th>13</th>\n",
       "      <td>Electrical &amp; Electronic Manufacturing</td>\n",
       "      <td>22</td>\n",
       "      <td>0.01</td>\n",
       "    </tr>\n",
       "    <tr>\n",
       "      <th>14</th>\n",
       "      <td>Advertising &amp; Marketing</td>\n",
       "      <td>19</td>\n",
       "      <td>0.01</td>\n",
       "    </tr>\n",
       "    <tr>\n",
       "      <th>15</th>\n",
       "      <td>Insurance Operators</td>\n",
       "      <td>18</td>\n",
       "      <td>0.01</td>\n",
       "    </tr>\n",
       "    <tr>\n",
       "      <th>16</th>\n",
       "      <td>Telecommunications Services</td>\n",
       "      <td>14</td>\n",
       "      <td>0.01</td>\n",
       "    </tr>\n",
       "    <tr>\n",
       "      <th>17</th>\n",
       "      <td>Logistics &amp; Supply Chain</td>\n",
       "      <td>13</td>\n",
       "      <td>0.01</td>\n",
       "    </tr>\n",
       "    <tr>\n",
       "      <th>18</th>\n",
       "      <td>Biotech &amp; Pharmaceuticals</td>\n",
       "      <td>11</td>\n",
       "      <td>0.01</td>\n",
       "    </tr>\n",
       "    <tr>\n",
       "      <th>19</th>\n",
       "      <td>Financial Transaction Processing</td>\n",
       "      <td>9</td>\n",
       "      <td>0.00</td>\n",
       "    </tr>\n",
       "    <tr>\n",
       "      <th>20</th>\n",
       "      <td>Lending</td>\n",
       "      <td>9</td>\n",
       "      <td>0.00</td>\n",
       "    </tr>\n",
       "    <tr>\n",
       "      <th>21</th>\n",
       "      <td>Healthcare Product Manufacturing</td>\n",
       "      <td>9</td>\n",
       "      <td>0.00</td>\n",
       "    </tr>\n",
       "    <tr>\n",
       "      <th>22</th>\n",
       "      <td>Food Production</td>\n",
       "      <td>7</td>\n",
       "      <td>0.00</td>\n",
       "    </tr>\n",
       "    <tr>\n",
       "      <th>23</th>\n",
       "      <td>Primary &amp; Secondary Education</td>\n",
       "      <td>7</td>\n",
       "      <td>0.00</td>\n",
       "    </tr>\n",
       "    <tr>\n",
       "      <th>24</th>\n",
       "      <td>Building &amp; Construction</td>\n",
       "      <td>6</td>\n",
       "      <td>0.00</td>\n",
       "    </tr>\n",
       "    <tr>\n",
       "      <th>25</th>\n",
       "      <td>Colleges &amp; Universities</td>\n",
       "      <td>6</td>\n",
       "      <td>0.00</td>\n",
       "    </tr>\n",
       "    <tr>\n",
       "      <th>26</th>\n",
       "      <td>Security Services</td>\n",
       "      <td>5</td>\n",
       "      <td>0.00</td>\n",
       "    </tr>\n",
       "    <tr>\n",
       "      <th>27</th>\n",
       "      <td>Publishing</td>\n",
       "      <td>5</td>\n",
       "      <td>0.00</td>\n",
       "    </tr>\n",
       "    <tr>\n",
       "      <th>28</th>\n",
       "      <td>Transportation Management</td>\n",
       "      <td>5</td>\n",
       "      <td>0.00</td>\n",
       "    </tr>\n",
       "    <tr>\n",
       "      <th>29</th>\n",
       "      <td>Travel Agencies</td>\n",
       "      <td>5</td>\n",
       "      <td>0.00</td>\n",
       "    </tr>\n",
       "    <tr>\n",
       "      <th>30</th>\n",
       "      <td>Energy</td>\n",
       "      <td>5</td>\n",
       "      <td>0.00</td>\n",
       "    </tr>\n",
       "    <tr>\n",
       "      <th>31</th>\n",
       "      <td>Industrial Manufacturing</td>\n",
       "      <td>5</td>\n",
       "      <td>0.00</td>\n",
       "    </tr>\n",
       "    <tr>\n",
       "      <th>32</th>\n",
       "      <td>Wholesale</td>\n",
       "      <td>5</td>\n",
       "      <td>0.00</td>\n",
       "    </tr>\n",
       "    <tr>\n",
       "      <th>33</th>\n",
       "      <td>Aerospace &amp; Defence</td>\n",
       "      <td>5</td>\n",
       "      <td>0.00</td>\n",
       "    </tr>\n",
       "    <tr>\n",
       "      <th>34</th>\n",
       "      <td>Vehicle Dealers</td>\n",
       "      <td>4</td>\n",
       "      <td>0.00</td>\n",
       "    </tr>\n",
       "    <tr>\n",
       "      <th>35</th>\n",
       "      <td>Video Games</td>\n",
       "      <td>4</td>\n",
       "      <td>0.00</td>\n",
       "    </tr>\n",
       "    <tr>\n",
       "      <th>36</th>\n",
       "      <td>Bus &amp; Coach Services</td>\n",
       "      <td>4</td>\n",
       "      <td>0.00</td>\n",
       "    </tr>\n",
       "    <tr>\n",
       "      <th>37</th>\n",
       "      <td>Brokerage Services</td>\n",
       "      <td>3</td>\n",
       "      <td>0.00</td>\n",
       "    </tr>\n",
       "    <tr>\n",
       "      <th>38</th>\n",
       "      <td>Real Estate</td>\n",
       "      <td>3</td>\n",
       "      <td>0.00</td>\n",
       "    </tr>\n",
       "    <tr>\n",
       "      <th>39</th>\n",
       "      <td>Film Production &amp; Distribution</td>\n",
       "      <td>3</td>\n",
       "      <td>0.00</td>\n",
       "    </tr>\n",
       "    <tr>\n",
       "      <th>40</th>\n",
       "      <td>Shipping</td>\n",
       "      <td>3</td>\n",
       "      <td>0.00</td>\n",
       "    </tr>\n",
       "    <tr>\n",
       "      <th>41</th>\n",
       "      <td>Local Councils</td>\n",
       "      <td>3</td>\n",
       "      <td>0.00</td>\n",
       "    </tr>\n",
       "    <tr>\n",
       "      <th>42</th>\n",
       "      <td>Transportation Equipment Manufacturing</td>\n",
       "      <td>3</td>\n",
       "      <td>0.00</td>\n",
       "    </tr>\n",
       "    <tr>\n",
       "      <th>43</th>\n",
       "      <td>Food &amp; Drink Manufacturing</td>\n",
       "      <td>3</td>\n",
       "      <td>0.00</td>\n",
       "    </tr>\n",
       "    <tr>\n",
       "      <th>44</th>\n",
       "      <td>Research &amp; Development</td>\n",
       "      <td>2</td>\n",
       "      <td>0.00</td>\n",
       "    </tr>\n",
       "    <tr>\n",
       "      <th>45</th>\n",
       "      <td>Gambling</td>\n",
       "      <td>2</td>\n",
       "      <td>0.00</td>\n",
       "    </tr>\n",
       "    <tr>\n",
       "      <th>46</th>\n",
       "      <td>Chemical Manufacturing</td>\n",
       "      <td>1</td>\n",
       "      <td>0.00</td>\n",
       "    </tr>\n",
       "    <tr>\n",
       "      <th>47</th>\n",
       "      <td>Building &amp; Personnel Services</td>\n",
       "      <td>1</td>\n",
       "      <td>0.00</td>\n",
       "    </tr>\n",
       "  </tbody>\n",
       "</table>\n",
       "</div>"
      ],
      "text/plain": [
       "                                   Industry  Number of Jobs  \\\n",
       "0                       Government Agencies             264   \n",
       "1                                  Internet             159   \n",
       "2                    Staffing & Outsourcing             112   \n",
       "3                Banks & Building Societies             102   \n",
       "4                               IT Services              83   \n",
       "5     Investment Banking & Asset Management              73   \n",
       "6                                Consulting              64   \n",
       "7              Computer Hardware & Software              50   \n",
       "8   Enterprise Software & Network Solutions              43   \n",
       "9                        Other Retail Shops              27   \n",
       "10                               Accounting              25   \n",
       "11    Cable, Internet & Telephone Providers              25   \n",
       "12          Healthcare Services & Hospitals              23   \n",
       "13    Electrical & Electronic Manufacturing              22   \n",
       "14                  Advertising & Marketing              19   \n",
       "15                      Insurance Operators              18   \n",
       "16              Telecommunications Services              14   \n",
       "17                 Logistics & Supply Chain              13   \n",
       "18                Biotech & Pharmaceuticals              11   \n",
       "19         Financial Transaction Processing               9   \n",
       "20                                  Lending               9   \n",
       "21         Healthcare Product Manufacturing               9   \n",
       "22                          Food Production               7   \n",
       "23            Primary & Secondary Education               7   \n",
       "24                  Building & Construction               6   \n",
       "25                  Colleges & Universities               6   \n",
       "26                        Security Services               5   \n",
       "27                               Publishing               5   \n",
       "28                Transportation Management               5   \n",
       "29                          Travel Agencies               5   \n",
       "30                                   Energy               5   \n",
       "31                 Industrial Manufacturing               5   \n",
       "32                                Wholesale               5   \n",
       "33                      Aerospace & Defence               5   \n",
       "34                          Vehicle Dealers               4   \n",
       "35                              Video Games               4   \n",
       "36                     Bus & Coach Services               4   \n",
       "37                       Brokerage Services               3   \n",
       "38                              Real Estate               3   \n",
       "39           Film Production & Distribution               3   \n",
       "40                                 Shipping               3   \n",
       "41                           Local Councils               3   \n",
       "42   Transportation Equipment Manufacturing               3   \n",
       "43               Food & Drink Manufacturing               3   \n",
       "44                   Research & Development               2   \n",
       "45                                 Gambling               2   \n",
       "46                   Chemical Manufacturing               1   \n",
       "47            Building & Personnel Services               1   \n",
       "\n",
       "    Relative Frequency, %  \n",
       "0                    0.13  \n",
       "1                    0.08  \n",
       "2                    0.05  \n",
       "3                    0.05  \n",
       "4                    0.04  \n",
       "5                    0.04  \n",
       "6                    0.03  \n",
       "7                    0.02  \n",
       "8                    0.02  \n",
       "9                    0.01  \n",
       "10                   0.01  \n",
       "11                   0.01  \n",
       "12                   0.01  \n",
       "13                   0.01  \n",
       "14                   0.01  \n",
       "15                   0.01  \n",
       "16                   0.01  \n",
       "17                   0.01  \n",
       "18                   0.01  \n",
       "19                   0.00  \n",
       "20                   0.00  \n",
       "21                   0.00  \n",
       "22                   0.00  \n",
       "23                   0.00  \n",
       "24                   0.00  \n",
       "25                   0.00  \n",
       "26                   0.00  \n",
       "27                   0.00  \n",
       "28                   0.00  \n",
       "29                   0.00  \n",
       "30                   0.00  \n",
       "31                   0.00  \n",
       "32                   0.00  \n",
       "33                   0.00  \n",
       "34                   0.00  \n",
       "35                   0.00  \n",
       "36                   0.00  \n",
       "37                   0.00  \n",
       "38                   0.00  \n",
       "39                   0.00  \n",
       "40                   0.00  \n",
       "41                   0.00  \n",
       "42                   0.00  \n",
       "43                   0.00  \n",
       "44                   0.00  \n",
       "45                   0.00  \n",
       "46                   0.00  \n",
       "47                   0.00  "
      ]
     },
     "execution_count": 51,
     "metadata": {},
     "output_type": "execute_result"
    }
   ],
   "source": [
    "# Specific number of jobs by the different industry\n",
    "df_industry[\"Relative Frequency, %\"] = round(df_industry[\"Number of Jobs\"]/total_jobs, 2)\n",
    "df_industry"
   ]
  },
  {
   "cell_type": "code",
   "execution_count": 52,
   "metadata": {
    "scrolled": true
   },
   "outputs": [
    {
     "data": {
      "image/png": "[encoded data removed]",
      "text/plain": [
       "<Figure size 1152x576 with 1 Axes>"
      ]
     },
     "metadata": {},
     "output_type": "display_data"
    },
    {
     "data": {
      "text/plain": [
       "<Figure size 1152x576 with 0 Axes>"
      ]
     },
     "metadata": {},
     "output_type": "display_data"
    }
   ],
   "source": [
    "# Creating the Tree Map Visualisation\n",
    "squarify.plot(sizes=df_industry['Number of Jobs'],\n",
    "              label=df_industry['Industry'], alpha=.8)\n",
    "plt.show()\n",
    "plt.savefig('Job demand by Industry.png')"
   ]
  },
  {
   "cell_type": "markdown",
   "metadata": {},
   "source": [
    "**Findings:** I was surprised to find that Government Agencies was the largest employer of the data driven jobs. The second largest employer by Industry is unsurprisingly is the Internet(Technology) Industry.\n",
    "<br> Other surprising results was the Banking and Asset Management Industry."
   ]
  },
  {
   "cell_type": "markdown",
   "metadata": {},
   "source": [
    "<a id = \"point_3_9\"></a>\n",
    "### 3.9 Rating Distribution\n",
    "We want to investigate the distribution of company rating across in this technology industry."
   ]
  },
  {
   "cell_type": "code",
   "execution_count": 53,
   "metadata": {},
   "outputs": [],
   "source": [
    "# Removing null value for ratings\n",
    "df_rating = df[df['Rating'] != -1]"
   ]
  },
  {
   "cell_type": "code",
   "execution_count": 54,
   "metadata": {},
   "outputs": [
    {
     "data": {
      "image/png": "[encoded data removed]",
      "text/plain": [
       "<Figure size 1152x576 with 1 Axes>"
      ]
     },
     "metadata": {},
     "output_type": "display_data"
    }
   ],
   "source": [
    "sns.set(style=\"whitegrid\")\n",
    "n, bins, patches = plt.hist(x=df_rating['Rating'], bins='auto',\n",
    "                            alpha=0.7, rwidth=0.85)\n",
    "plt.xlabel('Company Ratings')\n",
    "plt.ylabel('Frequency')\n",
    "plt.title('Distribution of Company Ratings')\n",
    "\n",
    "# Set a clean upper y-axis limit.\n",
    "maxfreq = n.max()\n",
    "plt.ylim(ymax=np.ceil(maxfreq / 10) * 10 if maxfreq % 10 else maxfreq + 10)\n",
    "plt.savefig('Rating Distribution.png')"
   ]
  },
  {
   "cell_type": "markdown",
   "metadata": {},
   "source": [
    "**Findings:** We find that the average company rating in the technology sector is around 3.75/5."
   ]
  },
  {
   "cell_type": "markdown",
   "metadata": {},
   "source": [
    "<a id ='point_4'></a>\n",
    "## Word Cloud in Job Description\n",
    "We want to visualise what are the words that are most frequently repeated in the job description, we use a word cloud algorithm to represent the results below."
   ]
  },
  {
   "cell_type": "code",
   "execution_count": null,
   "metadata": {},
   "outputs": [
    {
     "name": "stderr",
     "output_type": "stream",
     "text": [
      "[nltk_data] Downloading package stopwords to /Users/james/nltk_data...\n",
      "[nltk_data]   Package stopwords is already up-to-date!\n",
      "[nltk_data] Downloading package punkt to /Users/james/nltk_data...\n",
      "[nltk_data]   Unzipping tokenizers/punkt.zip.\n"
     ]
    }
   ],
   "source": [
    "nltk.download('stopwords')\n",
    "nltk.download('punkt')\n",
    "\n",
    "words = \" \".join(df['Job Description'])\n",
    "\n",
    "\n",
    "def punctuation_stop(text):\n",
    "    \"\"\"remove punctuation and stop words\"\"\"\n",
    "    filtered = []\n",
    "    stop_words = set(stopwords.words('english'))\n",
    "    word_tokens = word_tokenize(text)\n",
    "    for w in word_tokens:\n",
    "        if w not in stop_words and w.isalpha():\n",
    "            filtered.append(w.lower())\n",
    "    return filtered\n",
    "\n",
    "\n",
    "words_filtered = punctuation_stop(words)\n",
    "text = \" \".join([ele for ele in words_filtered])\n",
    "wc = WordCloud(background_color=\"white\", random_state=1,\n",
    "               stopwords=STOPWORDS, max_words=2000, width=800, height=1500)\n",
    "wc.generate(text)\n",
    "plt.figure(figsize=[10, 10])\n",
    "plt.imshow(wc, interpolation=\"bilinear\")\n",
    "plt.axis('off')\n",
    "plt.show()\n",
    "wc.to_file('Job Description Word Cloud.png')"
   ]
  },
  {
   "cell_type": "markdown",
   "metadata": {},
   "source": [
    "**Findings:** In the job description, we find that the knowledge in machine learning is the most popular skill that is requested by employers. Other notable skills are data mining, predicitve modeling, data pipline, natural language processing and big data."
   ]
  }
 ],
 "metadata": {
  "kernelspec": {
   "display_name": "Python 3",
   "language": "python",
   "name": "python3"
  },
  "language_info": {
   "codemirror_mode": {
    "name": "ipython",
    "version": 3
   },
   "file_extension": ".py",
   "mimetype": "text/x-python",
   "name": "python",
   "nbconvert_exporter": "python",
   "pygments_lexer": "ipython3",
   "version": "3.7.6"
  }
 },
 "nbformat": 4,
 "nbformat_minor": 4
}
