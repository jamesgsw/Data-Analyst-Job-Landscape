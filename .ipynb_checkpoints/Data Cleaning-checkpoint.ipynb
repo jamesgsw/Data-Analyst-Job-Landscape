{
 "cells": [
  {
   "cell_type": "markdown",
   "metadata": {},
   "source": [
    "# Data Cleaning Step"
   ]
  },
  {
   "cell_type": "markdown",
   "metadata": {},
   "source": [
    "### Table of Contents:\n",
    "* [1. Importing relevant libraries](#point_1)\n",
    "* [2. Preliminary Data Analysis](#point_2)\n",
    "* [3. Gathering Salary Information](#point_3)\n"
   ]
  },
  {
   "cell_type": "markdown",
   "metadata": {},
   "source": [
    "<a id=\"point_1\"></a>\n",
    "### 1. Importing Relevant Libraries"
   ]
  },
  {
   "cell_type": "code",
   "execution_count": 1,
   "metadata": {},
   "outputs": [],
   "source": [
    "\"\"\"Data Science Packages\"\"\"\n",
    "import numpy as np\n",
    "import pandas as pd\n",
    "\n",
    "\"\"\"Data Visualisation Packages\"\"\"\n",
    "import matplotlib.pyplot as plt\n",
    "import seaborn as sns"
   ]
  },
  {
   "cell_type": "markdown",
   "metadata": {},
   "source": [
    "<a id=\"point_2\"></a>\n",
    "### 2. Preliminary Data Analysis"
   ]
  },
  {
   "cell_type": "code",
   "execution_count": null,
   "metadata": {},
   "outputs": [],
   "source": []
  },
  {
   "cell_type": "markdown",
   "metadata": {},
   "source": [
    "<a id=\"point_3\"></a>\n",
    "### 3. Gathering Salary Information"
   ]
  },
  {
   "cell_type": "code",
   "execution_count": 13,
   "metadata": {},
   "outputs": [
    {
     "data": {
      "text/html": [
       "<div>\n",
       "<style scoped>\n",
       "    .dataframe tbody tr th:only-of-type {\n",
       "        vertical-align: middle;\n",
       "    }\n",
       "\n",
       "    .dataframe tbody tr th {\n",
       "        vertical-align: top;\n",
       "    }\n",
       "\n",
       "    .dataframe thead th {\n",
       "        text-align: right;\n",
       "    }\n",
       "</style>\n",
       "<table border=\"1\" class=\"dataframe\">\n",
       "  <thead>\n",
       "    <tr style=\"text-align: right;\">\n",
       "      <th></th>\n",
       "      <th>Job Title</th>\n",
       "      <th>Position Level</th>\n",
       "      <th>Average Base Pay</th>\n",
       "      <th>Number of Respondents</th>\n",
       "      <th>Number of Listed Jobs</th>\n",
       "    </tr>\n",
       "  </thead>\n",
       "  <tbody>\n",
       "    <tr>\n",
       "      <th>0</th>\n",
       "      <td>Data Scientist</td>\n",
       "      <td>Senior</td>\n",
       "      <td>118000</td>\n",
       "      <td>4</td>\n",
       "      <td>928</td>\n",
       "    </tr>\n",
       "    <tr>\n",
       "      <th>1</th>\n",
       "      <td>Data Scientist</td>\n",
       "      <td>Junior</td>\n",
       "      <td>52200</td>\n",
       "      <td>3</td>\n",
       "      <td>568</td>\n",
       "    </tr>\n",
       "    <tr>\n",
       "      <th>2</th>\n",
       "      <td>Data Engineer</td>\n",
       "      <td>Senior</td>\n",
       "      <td>78000</td>\n",
       "      <td>4</td>\n",
       "      <td>1051</td>\n",
       "    </tr>\n",
       "    <tr>\n",
       "      <th>3</th>\n",
       "      <td>Data Engineer</td>\n",
       "      <td>Junior</td>\n",
       "      <td>48000</td>\n",
       "      <td>1</td>\n",
       "      <td>4334</td>\n",
       "    </tr>\n",
       "    <tr>\n",
       "      <th>4</th>\n",
       "      <td>Data Analyst</td>\n",
       "      <td>Senior</td>\n",
       "      <td>57600</td>\n",
       "      <td>12</td>\n",
       "      <td>923</td>\n",
       "    </tr>\n",
       "    <tr>\n",
       "      <th>5</th>\n",
       "      <td>Data Analyst</td>\n",
       "      <td>Junior</td>\n",
       "      <td>51800</td>\n",
       "      <td>33</td>\n",
       "      <td>252</td>\n",
       "    </tr>\n",
       "    <tr>\n",
       "      <th>6</th>\n",
       "      <td>Quantitative Analyst</td>\n",
       "      <td>General</td>\n",
       "      <td>120000</td>\n",
       "      <td>9</td>\n",
       "      <td>512</td>\n",
       "    </tr>\n",
       "    <tr>\n",
       "      <th>7</th>\n",
       "      <td>Technology Consultant</td>\n",
       "      <td>Senior</td>\n",
       "      <td>84000</td>\n",
       "      <td>1</td>\n",
       "      <td>821</td>\n",
       "    </tr>\n",
       "    <tr>\n",
       "      <th>8</th>\n",
       "      <td>Technology Consultant</td>\n",
       "      <td>Junior</td>\n",
       "      <td>75600</td>\n",
       "      <td>9</td>\n",
       "      <td>1902</td>\n",
       "    </tr>\n",
       "  </tbody>\n",
       "</table>\n",
       "</div>"
      ],
      "text/plain": [
       "               Job Title Position Level  Average Base Pay  \\\n",
       "0         Data Scientist         Senior            118000   \n",
       "1         Data Scientist         Junior             52200   \n",
       "2          Data Engineer         Senior             78000   \n",
       "3          Data Engineer         Junior             48000   \n",
       "4           Data Analyst         Senior             57600   \n",
       "5           Data Analyst         Junior             51800   \n",
       "6   Quantitative Analyst        General            120000   \n",
       "7  Technology Consultant         Senior             84000   \n",
       "8  Technology Consultant         Junior             75600   \n",
       "\n",
       "   Number of Respondents  Number of Listed Jobs  \n",
       "0                      4                    928  \n",
       "1                      3                    568  \n",
       "2                      4                   1051  \n",
       "3                      1                   4334  \n",
       "4                     12                    923  \n",
       "5                     33                    252  \n",
       "6                      9                    512  \n",
       "7                      1                    821  \n",
       "8                      9                   1902  "
      ]
     },
     "execution_count": 13,
     "metadata": {},
     "output_type": "execute_result"
    }
   ],
   "source": [
    "salary_data = {'Job Title':  ['Data Scientist', 'Data Scientist', 'Data Engineer', 'Data Engineer', 'Data Analyst', 'Data Analyst', 'Quantitative Analyst', 'Technology Consultant', 'Technology Consultant'],\n",
    "        'Position Level': ['Senior', 'Junior', 'Senior', 'Junior','Senior', 'Junior', 'General', 'Senior', 'Junior'],\n",
    "        'Average Base Pay': [118000, 52200, 78000, 48000, 57600, 51800, 120000, 84000, 75600],\n",
    "        'Number of Respondents': [4, 3, 4, 1, 12, 33, 9, 1, 9],\n",
    "        'Number of Listed Jobs': [928, 568, 1051, 4334, 923, 252, 512, 821, 1902]\n",
    "        }\n",
    "\n",
    "salary_df = pd.DataFrame (salary_data, columns = ['Job Title', 'Position Level', 'Average Base Pay', 'Number of Respondents','Number of Listed Jobs'])\n",
    "salary_df"
   ]
  },
  {
   "cell_type": "code",
   "execution_count": null,
   "metadata": {},
   "outputs": [],
   "source": []
  }
 ],
 "metadata": {
  "kernelspec": {
   "display_name": "Python 3",
   "language": "python",
   "name": "python3"
  },
  "language_info": {
   "codemirror_mode": {
    "name": "ipython",
    "version": 3
   },
   "file_extension": ".py",
   "mimetype": "text/x-python",
   "name": "python",
   "nbconvert_exporter": "python",
   "pygments_lexer": "ipython3",
   "version": "3.7.7"
  }
 },
 "nbformat": 4,
 "nbformat_minor": 4
}
