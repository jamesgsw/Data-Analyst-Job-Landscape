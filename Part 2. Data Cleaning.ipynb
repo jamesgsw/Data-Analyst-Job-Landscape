{
 "cells": [
  {
   "cell_type": "markdown",
   "metadata": {},
   "source": [
    "# Data Cleaning Step"
   ]
  },
  {
   "cell_type": "markdown",
   "metadata": {},
   "source": [
    "# Table of Contents:\n",
    "* [1. Importing relevant libraries](#point_1)\n",
    "* [2. Preliminary Data Cleaning](#point_2)\n",
    "   * [2.1 Combining the different job title datasets](#point_2_1)\n",
    "   * [2.2 Checking Null Values](#point_2_2)\n",
    "   * [2.3 Data Transformation for Null Values](#point_2_3)\n",
    "   * [2.4 Handling the different permutation of Job Titles](#point_2_4)\n",
    "   * [2.5 Cleaning the company text entries](#point_2_5)\n",
    "   * [2.6 Sorting through description to get Technical Skills](#point_2_6)\n",
    "   * [2.x Send Clean dataframe to excel file for data analysis](#point_2_x)\n",
    "   \n",
    "   \n",
    "* [3. Salary Information](#point_3)"
   ]
  },
  {
   "cell_type": "markdown",
   "metadata": {},
   "source": [
    "<a id=\"point_1\"></a>\n",
    "# 1. Importing Relevant Libraries"
   ]
  },
  {
   "cell_type": "code",
   "execution_count": 83,
   "metadata": {},
   "outputs": [],
   "source": [
    "\"\"\"Data Science Packages\"\"\"\n",
    "import numpy as np\n",
    "import pandas as pd\n",
    "\n",
    "\"\"\"Data Visualisation Packages\"\"\"\n",
    "import matplotlib.pyplot as plt\n",
    "import seaborn as sns"
   ]
  },
  {
   "cell_type": "markdown",
   "metadata": {},
   "source": [
    "<a id=\"point_2\"></a>\n",
    "# 2. Preliminary Data Analysis"
   ]
  },
  {
   "cell_type": "markdown",
   "metadata": {},
   "source": [
    "<a id=\"point_2_1\"></a>\n",
    "## 2.1 Combining the different job title datasets"
   ]
  },
  {
   "cell_type": "code",
   "execution_count": 84,
   "metadata": {},
   "outputs": [],
   "source": [
    "df1 = pd.read_csv('Glassdoor Data Scientist Jobs.csv')\n",
    "df2 = pd.read_csv('Glassdoor Data Engineer Jobs.csv')\n",
    "df3 = pd.read_csv('Glassdoor Data Analyst Jobs.csv')\n",
    "df4 = pd.read_csv('Glassdoor Business Intelligence Analyst Jobs.csv')\n",
    "df5 = pd.read_csv('Glassdoor Quantitative Analyst Jobs.csv')\n",
    "df6 = pd.read_csv('Glassdoor Technology Consultant Jobs.csv')\n",
    "df7 = pd.read_csv('Glassdoor Machine Learning Engineer Jobs.csv')"
   ]
  },
  {
   "cell_type": "code",
   "execution_count": 85,
   "metadata": {},
   "outputs": [
    {
     "data": {
      "text/html": [
       "<div>\n",
       "<style scoped>\n",
       "    .dataframe tbody tr th:only-of-type {\n",
       "        vertical-align: middle;\n",
       "    }\n",
       "\n",
       "    .dataframe tbody tr th {\n",
       "        vertical-align: top;\n",
       "    }\n",
       "\n",
       "    .dataframe thead th {\n",
       "        text-align: right;\n",
       "    }\n",
       "</style>\n",
       "<table border=\"1\" class=\"dataframe\">\n",
       "  <thead>\n",
       "    <tr style=\"text-align: right;\">\n",
       "      <th></th>\n",
       "      <th>Unnamed: 0</th>\n",
       "      <th>Job Title</th>\n",
       "      <th>Job Description</th>\n",
       "      <th>Rating</th>\n",
       "      <th>Company Name</th>\n",
       "      <th>Location</th>\n",
       "      <th>Headquarters</th>\n",
       "      <th>Size</th>\n",
       "      <th>Founded</th>\n",
       "      <th>Type of ownership</th>\n",
       "      <th>Industry</th>\n",
       "      <th>Sector</th>\n",
       "      <th>Revenue</th>\n",
       "      <th>Competitors</th>\n",
       "    </tr>\n",
       "  </thead>\n",
       "  <tbody>\n",
       "    <tr>\n",
       "      <th>0</th>\n",
       "      <td>0</td>\n",
       "      <td>Data Scientist</td>\n",
       "      <td>We are looking for Data Scientists who are int...</td>\n",
       "      <td>3.6</td>\n",
       "      <td>GovTech\\n3.6</td>\n",
       "      <td>Singapore</td>\n",
       "      <td>Singapore, Singapore</td>\n",
       "      <td>1001 to 5000 employees</td>\n",
       "      <td>2016</td>\n",
       "      <td>Government</td>\n",
       "      <td>Government Agencies</td>\n",
       "      <td>Government</td>\n",
       "      <td>Unknown / Non-Applicable</td>\n",
       "      <td>-1</td>\n",
       "    </tr>\n",
       "    <tr>\n",
       "      <th>1</th>\n",
       "      <td>1</td>\n",
       "      <td>Data Scientist</td>\n",
       "      <td>Location:\\nSingapore\\n\\nGeography:\\nAsia Pacif...</td>\n",
       "      <td>4.3</td>\n",
       "      <td>Boston Consulting Group\\n4.3</td>\n",
       "      <td>Singapore</td>\n",
       "      <td>Boston, MA</td>\n",
       "      <td>10000+ employees</td>\n",
       "      <td>1963</td>\n",
       "      <td>Company - Private</td>\n",
       "      <td>Consulting</td>\n",
       "      <td>Business Services</td>\n",
       "      <td>$10 to $25 million (SGD)</td>\n",
       "      <td>McKinsey &amp; Company, Bain &amp; Company, Accenture</td>\n",
       "    </tr>\n",
       "    <tr>\n",
       "      <th>2</th>\n",
       "      <td>2</td>\n",
       "      <td>Data Scientist - Customer Experience Group</td>\n",
       "      <td>Data Scientist\\n\\nSingapore\\n\\nDell provides t...</td>\n",
       "      <td>4.1</td>\n",
       "      <td>Dell Technologies\\n4.1</td>\n",
       "      <td>Singapore</td>\n",
       "      <td>Round Rock, TX</td>\n",
       "      <td>10000+ employees</td>\n",
       "      <td>1984</td>\n",
       "      <td>Company - Public</td>\n",
       "      <td>IT Services</td>\n",
       "      <td>Information Technology</td>\n",
       "      <td>$10+ billion (SGD)</td>\n",
       "      <td>IBM, Apple, HP Inc.</td>\n",
       "    </tr>\n",
       "    <tr>\n",
       "      <th>3</th>\n",
       "      <td>3</td>\n",
       "      <td>Sr. Data Scientist Smart Home</td>\n",
       "      <td>The Dash Replenishment Service (DRS) is an inn...</td>\n",
       "      <td>4.1</td>\n",
       "      <td>Amazon\\n4.1</td>\n",
       "      <td>Singapore, SG</td>\n",
       "      <td>Seattle, WA</td>\n",
       "      <td>10000+ employees</td>\n",
       "      <td>1994</td>\n",
       "      <td>Company - Public</td>\n",
       "      <td>Internet</td>\n",
       "      <td>Information Technology</td>\n",
       "      <td>$10+ billion (SGD)</td>\n",
       "      <td>Google, Microsoft, Walmart</td>\n",
       "    </tr>\n",
       "    <tr>\n",
       "      <th>4</th>\n",
       "      <td>4</td>\n",
       "      <td>Data Scientist</td>\n",
       "      <td>Analytics\\nData Scientist - QuantumBlack\\n\\nSi...</td>\n",
       "      <td>4.1</td>\n",
       "      <td>QuantumBlack\\n4.1</td>\n",
       "      <td>Singapore</td>\n",
       "      <td>London, United Kingdom</td>\n",
       "      <td>501 to 1000 employees</td>\n",
       "      <td>2009</td>\n",
       "      <td>Company - Private</td>\n",
       "      <td>Consulting</td>\n",
       "      <td>Business Services</td>\n",
       "      <td>Unknown / Non-Applicable</td>\n",
       "      <td>Palantir Technologies, Google, Microsoft</td>\n",
       "    </tr>\n",
       "  </tbody>\n",
       "</table>\n",
       "</div>"
      ],
      "text/plain": [
       "   Unnamed: 0                                   Job Title  \\\n",
       "0           0                              Data Scientist   \n",
       "1           1                              Data Scientist   \n",
       "2           2  Data Scientist - Customer Experience Group   \n",
       "3           3               Sr. Data Scientist Smart Home   \n",
       "4           4                              Data Scientist   \n",
       "\n",
       "                                     Job Description  Rating  \\\n",
       "0  We are looking for Data Scientists who are int...     3.6   \n",
       "1  Location:\\nSingapore\\n\\nGeography:\\nAsia Pacif...     4.3   \n",
       "2  Data Scientist\\n\\nSingapore\\n\\nDell provides t...     4.1   \n",
       "3  The Dash Replenishment Service (DRS) is an inn...     4.1   \n",
       "4  Analytics\\nData Scientist - QuantumBlack\\n\\nSi...     4.1   \n",
       "\n",
       "                   Company Name       Location            Headquarters  \\\n",
       "0                  GovTech\\n3.6      Singapore    Singapore, Singapore   \n",
       "1  Boston Consulting Group\\n4.3      Singapore              Boston, MA   \n",
       "2        Dell Technologies\\n4.1      Singapore          Round Rock, TX   \n",
       "3                   Amazon\\n4.1  Singapore, SG             Seattle, WA   \n",
       "4             QuantumBlack\\n4.1      Singapore  London, United Kingdom   \n",
       "\n",
       "                     Size  Founded  Type of ownership             Industry  \\\n",
       "0  1001 to 5000 employees     2016         Government  Government Agencies   \n",
       "1        10000+ employees     1963  Company - Private           Consulting   \n",
       "2        10000+ employees     1984   Company - Public          IT Services   \n",
       "3        10000+ employees     1994   Company - Public             Internet   \n",
       "4   501 to 1000 employees     2009  Company - Private           Consulting   \n",
       "\n",
       "                   Sector                   Revenue  \\\n",
       "0              Government  Unknown / Non-Applicable   \n",
       "1       Business Services  $10 to $25 million (SGD)   \n",
       "2  Information Technology        $10+ billion (SGD)   \n",
       "3  Information Technology        $10+ billion (SGD)   \n",
       "4       Business Services  Unknown / Non-Applicable   \n",
       "\n",
       "                                     Competitors  \n",
       "0                                             -1  \n",
       "1  McKinsey & Company, Bain & Company, Accenture  \n",
       "2                            IBM, Apple, HP Inc.  \n",
       "3                     Google, Microsoft, Walmart  \n",
       "4       Palantir Technologies, Google, Microsoft  "
      ]
     },
     "execution_count": 85,
     "metadata": {},
     "output_type": "execute_result"
    }
   ],
   "source": [
    "df = pd.concat([df1, df2, df3, df4, df5,df6, df7], axis=0)\n",
    "df.head()"
   ]
  },
  {
   "cell_type": "markdown",
   "metadata": {},
   "source": [
    "<a id=\"point_2_2\"></a>\n",
    "## 2.2 Checking Null Values\n",
    "The Null Values as we defined in the Data Collection notebook will be of value -1. Therefore, we would like to identify the number of rows that has the value of -1, indicating null values."
   ]
  },
  {
   "cell_type": "code",
   "execution_count": 86,
   "metadata": {},
   "outputs": [
    {
     "name": "stdout",
     "output_type": "stream",
     "text": [
      "Index(['Unnamed: 0', 'Job Title', 'Job Description', 'Rating', 'Company Name',\n",
      "       'Location', 'Headquarters', 'Size', 'Founded', 'Type of ownership',\n",
      "       'Industry', 'Sector', 'Revenue', 'Competitors'],\n",
      "      dtype='object')\n"
     ]
    }
   ],
   "source": [
    "column_names = df.columns\n",
    "print(column_names)"
   ]
  },
  {
   "cell_type": "code",
   "execution_count": 87,
   "metadata": {},
   "outputs": [
    {
     "name": "stdout",
     "output_type": "stream",
     "text": [
      "Unnamed: 0 has 0 empty rows\n",
      "Job Title has 0 empty rows\n",
      "Job Description has 0 empty rows\n",
      "Rating has 0 empty rows\n",
      "Company Name has 0 empty rows\n",
      "Location has 0 empty rows\n",
      "Headquarters has 757 empty rows\n",
      "Size has 752 empty rows\n",
      "Founded has 1615 empty rows\n",
      "Type of ownership has 752 empty rows\n",
      "Industry has 1494 empty rows\n",
      "Sector has 1495 empty rows\n",
      "Revenue has 753 empty rows\n",
      "Competitors has 3185 empty rows\n"
     ]
    }
   ],
   "source": [
    "for that_column in column_names:\n",
    "    \n",
    "    seriesObj = df[that_column].apply(lambda x: str(x) == \"-1\")\n",
    "    numOfRows = len(seriesObj[seriesObj == True].index)\n",
    "    print(that_column + \" has \" + str(numOfRows) + \" empty rows\")"
   ]
  },
  {
   "cell_type": "markdown",
   "metadata": {},
   "source": [
    "**Findings:** We realise that there are empty rows in Headquarters, Size, Founded, Type of Ownership, Industry, Type of ownership, industry, sector, revenue and Competitors."
   ]
  },
  {
   "cell_type": "markdown",
   "metadata": {},
   "source": [
    "<a id=\"point_2_3\"></a>\n",
    "## 2.3 Data Transformation for Null Values\n",
    "After we determine the columns that has the null values, we'll subsequently decide how do we handle this null values. We first need to calculate some statistics to determine if we should fill it in with pre-determined values or remove these columns"
   ]
  },
  {
   "cell_type": "markdown",
   "metadata": {},
   "source": [
    "###  Removing Unecessary Columns\n",
    "We realise that there are certain columns that has a high number of missing values, where some are more than half of dataset, and there's no meaningful value that we can fill in that would be realistic."
   ]
  },
  {
   "cell_type": "code",
   "execution_count": 88,
   "metadata": {},
   "outputs": [
    {
     "data": {
      "text/html": [
       "<div>\n",
       "<style scoped>\n",
       "    .dataframe tbody tr th:only-of-type {\n",
       "        vertical-align: middle;\n",
       "    }\n",
       "\n",
       "    .dataframe tbody tr th {\n",
       "        vertical-align: top;\n",
       "    }\n",
       "\n",
       "    .dataframe thead th {\n",
       "        text-align: right;\n",
       "    }\n",
       "</style>\n",
       "<table border=\"1\" class=\"dataframe\">\n",
       "  <thead>\n",
       "    <tr style=\"text-align: right;\">\n",
       "      <th></th>\n",
       "      <th>Unnamed: 0</th>\n",
       "      <th>Job Title</th>\n",
       "      <th>Job Description</th>\n",
       "      <th>Rating</th>\n",
       "      <th>Company Name</th>\n",
       "      <th>Location</th>\n",
       "      <th>Headquarters</th>\n",
       "      <th>Size</th>\n",
       "      <th>Founded</th>\n",
       "      <th>Type of ownership</th>\n",
       "      <th>Industry</th>\n",
       "      <th>Sector</th>\n",
       "      <th>Revenue</th>\n",
       "    </tr>\n",
       "  </thead>\n",
       "  <tbody>\n",
       "    <tr>\n",
       "      <th>0</th>\n",
       "      <td>0</td>\n",
       "      <td>Data Scientist</td>\n",
       "      <td>We are looking for Data Scientists who are int...</td>\n",
       "      <td>3.6</td>\n",
       "      <td>GovTech\\n3.6</td>\n",
       "      <td>Singapore</td>\n",
       "      <td>Singapore, Singapore</td>\n",
       "      <td>1001 to 5000 employees</td>\n",
       "      <td>2016</td>\n",
       "      <td>Government</td>\n",
       "      <td>Government Agencies</td>\n",
       "      <td>Government</td>\n",
       "      <td>Unknown / Non-Applicable</td>\n",
       "    </tr>\n",
       "    <tr>\n",
       "      <th>1</th>\n",
       "      <td>1</td>\n",
       "      <td>Data Scientist</td>\n",
       "      <td>Location:\\nSingapore\\n\\nGeography:\\nAsia Pacif...</td>\n",
       "      <td>4.3</td>\n",
       "      <td>Boston Consulting Group\\n4.3</td>\n",
       "      <td>Singapore</td>\n",
       "      <td>Boston, MA</td>\n",
       "      <td>10000+ employees</td>\n",
       "      <td>1963</td>\n",
       "      <td>Company - Private</td>\n",
       "      <td>Consulting</td>\n",
       "      <td>Business Services</td>\n",
       "      <td>$10 to $25 million (SGD)</td>\n",
       "    </tr>\n",
       "    <tr>\n",
       "      <th>2</th>\n",
       "      <td>2</td>\n",
       "      <td>Data Scientist - Customer Experience Group</td>\n",
       "      <td>Data Scientist\\n\\nSingapore\\n\\nDell provides t...</td>\n",
       "      <td>4.1</td>\n",
       "      <td>Dell Technologies\\n4.1</td>\n",
       "      <td>Singapore</td>\n",
       "      <td>Round Rock, TX</td>\n",
       "      <td>10000+ employees</td>\n",
       "      <td>1984</td>\n",
       "      <td>Company - Public</td>\n",
       "      <td>IT Services</td>\n",
       "      <td>Information Technology</td>\n",
       "      <td>$10+ billion (SGD)</td>\n",
       "    </tr>\n",
       "    <tr>\n",
       "      <th>3</th>\n",
       "      <td>3</td>\n",
       "      <td>Sr. Data Scientist Smart Home</td>\n",
       "      <td>The Dash Replenishment Service (DRS) is an inn...</td>\n",
       "      <td>4.1</td>\n",
       "      <td>Amazon\\n4.1</td>\n",
       "      <td>Singapore, SG</td>\n",
       "      <td>Seattle, WA</td>\n",
       "      <td>10000+ employees</td>\n",
       "      <td>1994</td>\n",
       "      <td>Company - Public</td>\n",
       "      <td>Internet</td>\n",
       "      <td>Information Technology</td>\n",
       "      <td>$10+ billion (SGD)</td>\n",
       "    </tr>\n",
       "    <tr>\n",
       "      <th>4</th>\n",
       "      <td>4</td>\n",
       "      <td>Data Scientist</td>\n",
       "      <td>Analytics\\nData Scientist - QuantumBlack\\n\\nSi...</td>\n",
       "      <td>4.1</td>\n",
       "      <td>QuantumBlack\\n4.1</td>\n",
       "      <td>Singapore</td>\n",
       "      <td>London, United Kingdom</td>\n",
       "      <td>501 to 1000 employees</td>\n",
       "      <td>2009</td>\n",
       "      <td>Company - Private</td>\n",
       "      <td>Consulting</td>\n",
       "      <td>Business Services</td>\n",
       "      <td>Unknown / Non-Applicable</td>\n",
       "    </tr>\n",
       "  </tbody>\n",
       "</table>\n",
       "</div>"
      ],
      "text/plain": [
       "   Unnamed: 0                                   Job Title  \\\n",
       "0           0                              Data Scientist   \n",
       "1           1                              Data Scientist   \n",
       "2           2  Data Scientist - Customer Experience Group   \n",
       "3           3               Sr. Data Scientist Smart Home   \n",
       "4           4                              Data Scientist   \n",
       "\n",
       "                                     Job Description  Rating  \\\n",
       "0  We are looking for Data Scientists who are int...     3.6   \n",
       "1  Location:\\nSingapore\\n\\nGeography:\\nAsia Pacif...     4.3   \n",
       "2  Data Scientist\\n\\nSingapore\\n\\nDell provides t...     4.1   \n",
       "3  The Dash Replenishment Service (DRS) is an inn...     4.1   \n",
       "4  Analytics\\nData Scientist - QuantumBlack\\n\\nSi...     4.1   \n",
       "\n",
       "                   Company Name       Location            Headquarters  \\\n",
       "0                  GovTech\\n3.6      Singapore    Singapore, Singapore   \n",
       "1  Boston Consulting Group\\n4.3      Singapore              Boston, MA   \n",
       "2        Dell Technologies\\n4.1      Singapore          Round Rock, TX   \n",
       "3                   Amazon\\n4.1  Singapore, SG             Seattle, WA   \n",
       "4             QuantumBlack\\n4.1      Singapore  London, United Kingdom   \n",
       "\n",
       "                     Size  Founded  Type of ownership             Industry  \\\n",
       "0  1001 to 5000 employees     2016         Government  Government Agencies   \n",
       "1        10000+ employees     1963  Company - Private           Consulting   \n",
       "2        10000+ employees     1984   Company - Public          IT Services   \n",
       "3        10000+ employees     1994   Company - Public             Internet   \n",
       "4   501 to 1000 employees     2009  Company - Private           Consulting   \n",
       "\n",
       "                   Sector                   Revenue  \n",
       "0              Government  Unknown / Non-Applicable  \n",
       "1       Business Services  $10 to $25 million (SGD)  \n",
       "2  Information Technology        $10+ billion (SGD)  \n",
       "3  Information Technology        $10+ billion (SGD)  \n",
       "4       Business Services  Unknown / Non-Applicable  "
      ]
     },
     "execution_count": 88,
     "metadata": {},
     "output_type": "execute_result"
    }
   ],
   "source": [
    "df.drop(['Competitors'], axis=1).head()"
   ]
  },
  {
   "cell_type": "markdown",
   "metadata": {},
   "source": [
    "<a id=\"point_2_4\"></a>\n",
    "## 2.4 Handling the different permutation of Job Titles\n",
    "Now that we have handled the null values, we need to ensure that the number of job titles is managed. Companies have different naming structure and style for their job titles and would include various nuances to reflect the specificity of the job. However, this would make the sorting of the job title difficult, therefore we would need to create an algorithm that takes the spits out the job title that we have listed here:\n",
    "<br> Job Title:  ['Data Scientist', 'Data Scientist', 'Data Engineer', 'Data Engineer', 'Data Analyst', 'Data Analyst', 'Quantitative Analyst', 'Technology Consultant', 'Technology Consultant']"
   ]
  },
  {
   "cell_type": "markdown",
   "metadata": {},
   "source": [
    "### Simplifying the Job Title"
   ]
  },
  {
   "cell_type": "code",
   "execution_count": 89,
   "metadata": {},
   "outputs": [
    {
     "data": {
      "text/plain": [
       "na                           2351\n",
       "Data Scientist                925\n",
       "Data Analyst                  477\n",
       "Data Engineer                 440\n",
       "Manager                       129\n",
       "Machine Learning Engineer      61\n",
       "Director                       17\n",
       "Name: Job Title Simplified, dtype: int64"
      ]
     },
     "execution_count": 89,
     "metadata": {},
     "output_type": "execute_result"
    }
   ],
   "source": [
    "def title_simplifier(title):\n",
    "    if 'data scientist' in title.lower():\n",
    "        return 'Data Scientist'\n",
    "    elif 'data engineer' in title.lower():\n",
    "        return 'Data Engineer'\n",
    "    elif 'data analyst' in title.lower():\n",
    "        return 'Data Analyst'\n",
    "    elif 'technology analyst' in title.lower():\n",
    "        return 'Technology Analyst'\n",
    "    elif 'machine learning' in title.lower():\n",
    "        return 'Machine Learning Engineer'\n",
    "    elif 'manager' in title.lower():\n",
    "        return 'Manager'\n",
    "    elif 'director' in title.lower():\n",
    "        return 'Director'\n",
    "    else:\n",
    "        return 'na'\n",
    "    \n",
    "#Title Simplifier\n",
    "df['Job Title Simplified'] = df['Job Title'].apply(title_simplifier)\n",
    "df['Job Title Simplified'].value_counts()"
   ]
  },
  {
   "cell_type": "markdown",
   "metadata": {},
   "source": [
    "**Findings:** We realise that there's a large number of results that do not fit our search parameters and do not have our keywords inside, therefore we'll drop these rows to improve the relevance and accuracy of our dataset."
   ]
  },
  {
   "cell_type": "code",
   "execution_count": 90,
   "metadata": {},
   "outputs": [
    {
     "data": {
      "text/plain": [
       "Data Scientist               925\n",
       "Data Analyst                 477\n",
       "Data Engineer                440\n",
       "Manager                      129\n",
       "Machine Learning Engineer     61\n",
       "Director                      17\n",
       "Name: Job Title Simplified, dtype: int64"
      ]
     },
     "execution_count": 90,
     "metadata": {},
     "output_type": "execute_result"
    }
   ],
   "source": [
    "#We drop the roles that do not fit our search keyword parameters\n",
    "df = df[df['Job Title Simplified'] != 'na']\n",
    "df['Job Title Simplified'].value_counts()"
   ]
  },
  {
   "cell_type": "markdown",
   "metadata": {},
   "source": [
    "All 'na' rows are dropped."
   ]
  },
  {
   "cell_type": "markdown",
   "metadata": {},
   "source": [
    "### Simplifying the seniority level"
   ]
  },
  {
   "cell_type": "code",
   "execution_count": 91,
   "metadata": {},
   "outputs": [],
   "source": [
    "def seniority(title):\n",
    "    if 'sr' in title.lower() or 'senior' in title.lower() or 'sr' in title.lower() or 'lead' in title.lower() or 'principal' in title.lower():\n",
    "            return 'Senior'\n",
    "    else:\n",
    "        return 'Junior'"
   ]
  },
  {
   "cell_type": "code",
   "execution_count": 92,
   "metadata": {},
   "outputs": [
    {
     "data": {
      "text/plain": [
       "Junior    1558\n",
       "Senior     491\n",
       "Name: Seniority, dtype: int64"
      ]
     },
     "execution_count": 92,
     "metadata": {},
     "output_type": "execute_result"
    }
   ],
   "source": [
    "#Seniority Simplifier\n",
    "df['Seniority'] = df['Job Title'].apply(seniority)\n",
    "df['Seniority'].value_counts()"
   ]
  },
  {
   "cell_type": "markdown",
   "metadata": {},
   "source": [
    "<a id=\"point_2_5\"></a>\n",
    "### 2.5 Cleaning the company text entries\n",
    "We realised that the company entries have the break line code('/n'), however we do not want that in our text file, therefore we apply a function to remove the break line code."
   ]
  },
  {
   "cell_type": "code",
   "execution_count": 95,
   "metadata": {},
   "outputs": [],
   "source": [
    "df['Job Description'] = df['Job Description'].apply(lambda x: x.replace('\\n', ''))"
   ]
  },
  {
   "cell_type": "markdown",
   "metadata": {},
   "source": [
    "<a id=\"point_2_6\"></a>\n",
    "### 2.6 Sorting through description to get Technical Skills\n",
    "Often times, companies have a set of technical skills that they desire in their staff such as Python, AWS and Spark. Therefore, we shall search through the description and identify these skills."
   ]
  },
  {
   "cell_type": "code",
   "execution_count": 96,
   "metadata": {},
   "outputs": [],
   "source": [
    "#AWS\n",
    "def get_technical_skills_aws(x):\n",
    "    x1 = str(x)\n",
    "    if \"aws\" in x1.lower():\n",
    "        return 1\n",
    "    else:\n",
    "        return 0\n",
    "df['AWS'] = df['Job Description'].apply(get_technical_skills_aws)\n",
    "\n",
    "#Excel\n",
    "def get_technical_skills_excel(x):\n",
    "    x1 = str(x)\n",
    "    if \"excel\" in x1.lower():\n",
    "        return 1\n",
    "    else:\n",
    "        return 0\n",
    "df['Excel'] = df['Job Description'].apply(get_technical_skills_excel)\n",
    "\n",
    "#Python\n",
    "def get_technical_skills_python(x):\n",
    "    x1 = str(x)\n",
    "    if \"python\" in x1.lower():\n",
    "        return 1\n",
    "    else:\n",
    "        return 0\n",
    "df['Python'] = df['Job Description'].apply(get_technical_skills_python)\n",
    "\n",
    "#R\n",
    "def get_technical_skills_r(x):\n",
    "    x1 = str(x)\n",
    "    if \"r\" in x1.lower():\n",
    "        return 1\n",
    "    else:\n",
    "        return 0\n",
    "df['R'] = df['Job Description'].apply(get_technical_skills_r)\n",
    "\n",
    "#Spark\n",
    "def get_technical_skills_spark(x):\n",
    "    x1 = str(x)\n",
    "    if \"spark\" in x1.lower():\n",
    "        return 1\n",
    "    else:\n",
    "        return 0\n",
    "df['Spark'] = df['Job Description'].apply(get_technical_skills_spark)\n",
    "\n",
    "#Hadoop\n",
    "def get_technical_skills_hadoop(x):\n",
    "    x1 = str(x)\n",
    "    if \"hadoop\" in x1.lower():\n",
    "        return 1\n",
    "    else:\n",
    "        return 0\n",
    "df['Hadoop'] = df['Job Description'].apply(get_technical_skills_hadoop)\n",
    "\n",
    "#Scala\n",
    "def get_technical_skills_scala(x):\n",
    "    x1 = str(x)\n",
    "    if \"scala\" in x1.lower():\n",
    "        return 1\n",
    "    else:\n",
    "        return 0\n",
    "df['Scala'] = df['Job Description'].apply(get_technical_skills_scala)\n",
    "\n",
    "#SQL\n",
    "def get_technical_skills_sql(x):\n",
    "    x1 = str(x)\n",
    "    if \"sql\" in x1.lower():\n",
    "        return 1\n",
    "    else:\n",
    "        return 0\n",
    "df['SQL'] = df['Job Description'].apply(get_technical_skills_sql)"
   ]
  },
  {
   "cell_type": "markdown",
   "metadata": {},
   "source": [
    "<a id=\"point_2_7\"></a>\n",
    "### 2.6 Sorting through description to get Academic Skills\n",
    "Often times, companies have a set of Academic skills that they desire in their staff such as Statistics and Machine Learning. Therefore, we shall search through the description and identify these skills."
   ]
  },
  {
   "cell_type": "code",
   "execution_count": 99,
   "metadata": {},
   "outputs": [],
   "source": [
    "#Multivariate Calculus\n",
    "def get_technical_skills_calculus(x):\n",
    "    x1 = str(x)\n",
    "    if \"multivariate calculus\" in x1.lower():\n",
    "        return 1\n",
    "    else:\n",
    "        return 0\n",
    "df['Multivariate Calculus'] = df['Job Description'].apply(get_technical_skills_calculus)\n",
    "\n",
    "#Database Management\n",
    "def get_technical_skills_database(x):\n",
    "    x1 = str(x)\n",
    "    if \"database management\" in x1.lower():\n",
    "        return 1\n",
    "    else:\n",
    "        return 0\n",
    "df['Database Management'] = df['Job Description'].apply(get_technical_skills_database)\n",
    "\n",
    "#Machine Learning\n",
    "def get_technical_skills_ml(x):\n",
    "    x1 = str(x)\n",
    "    if \"machine learning\" in x1.lower():\n",
    "        return 1\n",
    "    else:\n",
    "        return 0\n",
    "df['Machine Learning'] = df['Job Description'].apply(get_technical_skills_ml)\n",
    "\n",
    "#Statistics\n",
    "def get_technical_skills_stats(x):\n",
    "    x1 = str(x)\n",
    "    if \"stats\" in x1.lower():\n",
    "        return 1\n",
    "    else:\n",
    "        return 0\n",
    "df['Statistics'] = df['Job Description'].apply(get_technical_skills_stats)\n",
    "\n",
    "#DevOps\n",
    "def get_technical_skills_devops(x):\n",
    "    x1 = str(x)\n",
    "    if \"devops\" in x1.lower():\n",
    "        return 1\n",
    "    else:\n",
    "        return 0\n",
    "df['DevOps'] = df['Job Description'].apply(get_technical_skills_devops)"
   ]
  },
  {
   "cell_type": "code",
   "execution_count": 104,
   "metadata": {},
   "outputs": [
    {
     "data": {
      "text/plain": [
       "<bound method IndexOpsMixin.tolist of 0          Singapore\n",
       "1          Singapore\n",
       "2          Singapore\n",
       "3      Singapore, SG\n",
       "4          Singapore\n",
       "           ...      \n",
       "577        Singapore\n",
       "579        Singapore\n",
       "586        Singapore\n",
       "588        Singapore\n",
       "597        Singapore\n",
       "Name: Location, Length: 2049, dtype: object>"
      ]
     },
     "execution_count": 104,
     "metadata": {},
     "output_type": "execute_result"
    }
   ],
   "source": [
    "df['Location'].tolist"
   ]
  },
  {
   "cell_type": "markdown",
   "metadata": {},
   "source": [
    "<a id=\"point_2_x\"></a>\n",
    "### 2.x Send Clean dataframe to excel file for data analysis"
   ]
  },
  {
   "cell_type": "code",
   "execution_count": null,
   "metadata": {},
   "outputs": [],
   "source": [
    "df.to_excel('Job_dataset.xlsx')"
   ]
  },
  {
   "cell_type": "markdown",
   "metadata": {},
   "source": [
    "<a id=\"point_3\"></a>\n",
    "## 3. Salary Information\n",
    "The salary information that we obtained has been cleaned and visualized on the Glassdoor salary section. Therefore, we have manually pulled the data out of the website, with the different position levels, pay, number of respondents and the number of listed jobs for that particular position. "
   ]
  },
  {
   "cell_type": "code",
   "execution_count": 5,
   "metadata": {},
   "outputs": [
    {
     "data": {
      "text/html": [
       "<div>\n",
       "<style scoped>\n",
       "    .dataframe tbody tr th:only-of-type {\n",
       "        vertical-align: middle;\n",
       "    }\n",
       "\n",
       "    .dataframe tbody tr th {\n",
       "        vertical-align: top;\n",
       "    }\n",
       "\n",
       "    .dataframe thead th {\n",
       "        text-align: right;\n",
       "    }\n",
       "</style>\n",
       "<table border=\"1\" class=\"dataframe\">\n",
       "  <thead>\n",
       "    <tr style=\"text-align: right;\">\n",
       "      <th></th>\n",
       "      <th>Job Title</th>\n",
       "      <th>Position Level</th>\n",
       "      <th>Average Base Pay</th>\n",
       "      <th>Number of Respondents</th>\n",
       "      <th>Number of Listed Jobs</th>\n",
       "    </tr>\n",
       "  </thead>\n",
       "  <tbody>\n",
       "    <tr>\n",
       "      <th>0</th>\n",
       "      <td>Data Scientist</td>\n",
       "      <td>Senior</td>\n",
       "      <td>118000</td>\n",
       "      <td>4</td>\n",
       "      <td>928</td>\n",
       "    </tr>\n",
       "    <tr>\n",
       "      <th>1</th>\n",
       "      <td>Data Scientist</td>\n",
       "      <td>Junior</td>\n",
       "      <td>52200</td>\n",
       "      <td>3</td>\n",
       "      <td>568</td>\n",
       "    </tr>\n",
       "    <tr>\n",
       "      <th>2</th>\n",
       "      <td>Data Engineer</td>\n",
       "      <td>Senior</td>\n",
       "      <td>78000</td>\n",
       "      <td>4</td>\n",
       "      <td>1051</td>\n",
       "    </tr>\n",
       "    <tr>\n",
       "      <th>3</th>\n",
       "      <td>Data Engineer</td>\n",
       "      <td>Junior</td>\n",
       "      <td>48000</td>\n",
       "      <td>1</td>\n",
       "      <td>4334</td>\n",
       "    </tr>\n",
       "    <tr>\n",
       "      <th>4</th>\n",
       "      <td>Data Analyst</td>\n",
       "      <td>Senior</td>\n",
       "      <td>57600</td>\n",
       "      <td>12</td>\n",
       "      <td>923</td>\n",
       "    </tr>\n",
       "    <tr>\n",
       "      <th>5</th>\n",
       "      <td>Data Analyst</td>\n",
       "      <td>Junior</td>\n",
       "      <td>51800</td>\n",
       "      <td>33</td>\n",
       "      <td>252</td>\n",
       "    </tr>\n",
       "    <tr>\n",
       "      <th>6</th>\n",
       "      <td>Quantitative Analyst</td>\n",
       "      <td>General</td>\n",
       "      <td>120000</td>\n",
       "      <td>9</td>\n",
       "      <td>512</td>\n",
       "    </tr>\n",
       "    <tr>\n",
       "      <th>7</th>\n",
       "      <td>Technology Consultant</td>\n",
       "      <td>Senior</td>\n",
       "      <td>84000</td>\n",
       "      <td>1</td>\n",
       "      <td>821</td>\n",
       "    </tr>\n",
       "    <tr>\n",
       "      <th>8</th>\n",
       "      <td>Technology Consultant</td>\n",
       "      <td>Junior</td>\n",
       "      <td>75600</td>\n",
       "      <td>9</td>\n",
       "      <td>1902</td>\n",
       "    </tr>\n",
       "  </tbody>\n",
       "</table>\n",
       "</div>"
      ],
      "text/plain": [
       "               Job Title Position Level  Average Base Pay  \\\n",
       "0         Data Scientist         Senior            118000   \n",
       "1         Data Scientist         Junior             52200   \n",
       "2          Data Engineer         Senior             78000   \n",
       "3          Data Engineer         Junior             48000   \n",
       "4           Data Analyst         Senior             57600   \n",
       "5           Data Analyst         Junior             51800   \n",
       "6   Quantitative Analyst        General            120000   \n",
       "7  Technology Consultant         Senior             84000   \n",
       "8  Technology Consultant         Junior             75600   \n",
       "\n",
       "   Number of Respondents  Number of Listed Jobs  \n",
       "0                      4                    928  \n",
       "1                      3                    568  \n",
       "2                      4                   1051  \n",
       "3                      1                   4334  \n",
       "4                     12                    923  \n",
       "5                     33                    252  \n",
       "6                      9                    512  \n",
       "7                      1                    821  \n",
       "8                      9                   1902  "
      ]
     },
     "execution_count": 5,
     "metadata": {},
     "output_type": "execute_result"
    }
   ],
   "source": [
    "salary_data = {'Job Title':  ['Data Scientist', 'Data Scientist', 'Data Engineer', 'Data Engineer', 'Data Analyst', 'Data Analyst', 'Quantitative Analyst', 'Technology Consultant', 'Technology Consultant'],\n",
    "        'Position Level': ['Senior', 'Junior', 'Senior', 'Junior','Senior', 'Junior', 'General', 'Senior', 'Junior'],\n",
    "        'Average Base Pay': [118000, 52200, 78000, 48000, 57600, 51800, 120000, 84000, 75600],\n",
    "        'Number of Respondents': [4, 3, 4, 1, 12, 33, 9, 1, 9],\n",
    "        'Number of Listed Jobs': [928, 568, 1051, 4334, 923, 252, 512, 821, 1902]\n",
    "        }\n",
    "\n",
    "salary_df = pd.DataFrame (salary_data, columns = ['Job Title', 'Position Level', 'Average Base Pay', 'Number of Respondents','Number of Listed Jobs'])\n",
    "salary_df"
   ]
  },
  {
   "cell_type": "code",
   "execution_count": 6,
   "metadata": {},
   "outputs": [],
   "source": [
    "#Sending the salary dataframe into an excel file to be used\n",
    "salary_df.to_excel('Salary by title.xlsx')"
   ]
  }
 ],
 "metadata": {
  "kernelspec": {
   "display_name": "Python 3",
   "language": "python",
   "name": "python3"
  },
  "language_info": {
   "codemirror_mode": {
    "name": "ipython",
    "version": 3
   },
   "file_extension": ".py",
   "mimetype": "text/x-python",
   "name": "python",
   "nbconvert_exporter": "python",
   "pygments_lexer": "ipython3",
   "version": "3.7.7"
  }
 },
 "nbformat": 4,
 "nbformat_minor": 4
}
